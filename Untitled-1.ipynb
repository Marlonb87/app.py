{
 "cells": [
  {
   "cell_type": "code",
   "execution_count": 254,
   "metadata": {},
   "outputs": [],
   "source": [
    "import pandas as pd\n",
    "import numpy as np\n",
    "import matplotlib.pyplot as plt\n",
    "import seaborn as sns\n",
    "import statsmodels as sts\n",
    "from statsmodels.tsa.arima.model import ARIMA\n",
    "import warnings\n",
    "import sweetviz as sv\n",
    "from sklearn.linear_model import LinearRegression\n",
    "from datetime import datetime\n",
    "warnings.filterwarnings('always')\n",
    "warnings.filterwarnings('ignore')\n",
    "%matplotlib inline"
   ]
  },
  {
   "cell_type": "code",
   "execution_count": 255,
   "metadata": {},
   "outputs": [],
   "source": [
    "df = pd.read_excel('4600672730_Prog_Process_22.04.2025.xlsx',engine=\"openpyxl\")"
   ]
  },
  {
   "cell_type": "code",
   "execution_count": 256,
   "metadata": {},
   "outputs": [],
   "source": [
    "pd.set_option('display.float_format', lambda x: '%.2f' % x)"
   ]
  },
  {
   "cell_type": "code",
   "execution_count": 257,
   "metadata": {},
   "outputs": [
    {
     "data": {
      "text/html": [
       "<div>\n",
       "<style scoped>\n",
       "    .dataframe tbody tr th:only-of-type {\n",
       "        vertical-align: middle;\n",
       "    }\n",
       "\n",
       "    .dataframe tbody tr th {\n",
       "        vertical-align: top;\n",
       "    }\n",
       "\n",
       "    .dataframe thead th {\n",
       "        text-align: right;\n",
       "    }\n",
       "</style>\n",
       "<table border=\"1\" class=\"dataframe\">\n",
       "  <thead>\n",
       "    <tr style=\"text-align: right;\">\n",
       "      <th></th>\n",
       "      <th>Chiclet UEP</th>\n",
       "      <th>Status do Processamento</th>\n",
       "      <th>Prioridade</th>\n",
       "      <th>Data da Necessidade</th>\n",
       "      <th>Data Emissão da SS</th>\n",
       "      <th>Duração Vencimento da Necessidade (dias)</th>\n",
       "      <th>Data Conclusão da SS</th>\n",
       "      <th>Tempo Conclusão da SS (dias)</th>\n",
       "      <th>Fase SAMC</th>\n",
       "      <th>Status SAMC em Andamento?</th>\n",
       "      <th>...</th>\n",
       "      <th>Entrega Real \\nDBF</th>\n",
       "      <th>Fornecimento do material (Petrobras ou GranIHC)</th>\n",
       "      <th>REVESTIMENTO?</th>\n",
       "      <th>RT DE REVESTIMENTO</th>\n",
       "      <th>Tipo de Atraso\\nSuprimento</th>\n",
       "      <th>Tipo de Atraso\\nCaldeiraria</th>\n",
       "      <th>Tipo de Atraso\\nPintura</th>\n",
       "      <th>Status da Posição do Material Fabricado</th>\n",
       "      <th>Observações da Contratada</th>\n",
       "      <th>Observações Petrobras</th>\n",
       "    </tr>\n",
       "  </thead>\n",
       "  <tbody>\n",
       "    <tr>\n",
       "      <th>0</th>\n",
       "      <td>NaN</td>\n",
       "      <td>Concluída. Com Pedido</td>\n",
       "      <td>0</td>\n",
       "      <td>NaN</td>\n",
       "      <td>20/04/2023</td>\n",
       "      <td>NaN</td>\n",
       "      <td>2023-08-23</td>\n",
       "      <td>125.00</td>\n",
       "      <td>EXECUÇÃO</td>\n",
       "      <td>SIM</td>\n",
       "      <td>...</td>\n",
       "      <td>2023-06-22</td>\n",
       "      <td>GranServices</td>\n",
       "      <td>NaN</td>\n",
       "      <td>NaN</td>\n",
       "      <td>NaN</td>\n",
       "      <td>NaN</td>\n",
       "      <td>NaN</td>\n",
       "      <td>Embarcado</td>\n",
       "      <td>21/06/23 - Embarcado RT322966124 (PARADA)</td>\n",
       "      <td>NaN</td>\n",
       "    </tr>\n",
       "    <tr>\n",
       "      <th>1</th>\n",
       "      <td>NaN</td>\n",
       "      <td>Concluída. Com Pedido</td>\n",
       "      <td>0</td>\n",
       "      <td>NaN</td>\n",
       "      <td>2023-05-04 00:00:00</td>\n",
       "      <td>NaN</td>\n",
       "      <td>2023-06-12</td>\n",
       "      <td>39.00</td>\n",
       "      <td>EXECUÇÃO</td>\n",
       "      <td>SIM</td>\n",
       "      <td>...</td>\n",
       "      <td>2023-06-07</td>\n",
       "      <td>GranServices</td>\n",
       "      <td>NaN</td>\n",
       "      <td>NaN</td>\n",
       "      <td>NaN</td>\n",
       "      <td>NaN</td>\n",
       "      <td>NaN</td>\n",
       "      <td>Embarcado</td>\n",
       "      <td>17/05/23 - Suprimento - Status \"Enc. p/ o forn...</td>\n",
       "      <td>NaN</td>\n",
       "    </tr>\n",
       "    <tr>\n",
       "      <th>2</th>\n",
       "      <td>NaN</td>\n",
       "      <td>Concluída. Com Pedido</td>\n",
       "      <td>0</td>\n",
       "      <td>NaN</td>\n",
       "      <td>2023-04-19 00:00:00</td>\n",
       "      <td>NaN</td>\n",
       "      <td>2023-07-06</td>\n",
       "      <td>78.00</td>\n",
       "      <td>EXECUÇÃO</td>\n",
       "      <td>SIM</td>\n",
       "      <td>...</td>\n",
       "      <td>2023-06-21</td>\n",
       "      <td>Petrobras</td>\n",
       "      <td>NaN</td>\n",
       "      <td>NaN</td>\n",
       "      <td>NaN</td>\n",
       "      <td>NaN</td>\n",
       "      <td>NaN</td>\n",
       "      <td>Embarcado</td>\n",
       "      <td>10/05/23 - Suprimento - Status \"Aguar. Aprov. ...</td>\n",
       "      <td>15/05/2024 -Mudança para fase de processamento...</td>\n",
       "    </tr>\n",
       "    <tr>\n",
       "      <th>3</th>\n",
       "      <td>NaN</td>\n",
       "      <td>Concluída. Com Pedido</td>\n",
       "      <td>0</td>\n",
       "      <td>NaN</td>\n",
       "      <td>08/03/2023</td>\n",
       "      <td>NaN</td>\n",
       "      <td>2023-06-26</td>\n",
       "      <td>110.00</td>\n",
       "      <td>EXECUÇÃO</td>\n",
       "      <td>SIM</td>\n",
       "      <td>...</td>\n",
       "      <td>2023-06-21</td>\n",
       "      <td>GranServices</td>\n",
       "      <td>NaN</td>\n",
       "      <td>NaN</td>\n",
       "      <td>NaN</td>\n",
       "      <td>NaN</td>\n",
       "      <td>NaN</td>\n",
       "      <td>Embarcado</td>\n",
       "      <td>10/05/23 - Suprimento - Status \"Em Revisão\" no...</td>\n",
       "      <td>NaN</td>\n",
       "    </tr>\n",
       "    <tr>\n",
       "      <th>4</th>\n",
       "      <td>NaN</td>\n",
       "      <td>Concluída. Com Pedido</td>\n",
       "      <td>0</td>\n",
       "      <td>NaN</td>\n",
       "      <td>10/05/2023</td>\n",
       "      <td>NaN</td>\n",
       "      <td>2023-08-24</td>\n",
       "      <td>106.00</td>\n",
       "      <td>PROCESSAMENTO</td>\n",
       "      <td>NÃO</td>\n",
       "      <td>...</td>\n",
       "      <td>2023-06-22</td>\n",
       "      <td>GranServices</td>\n",
       "      <td>NaN</td>\n",
       "      <td>NaN</td>\n",
       "      <td>NaN</td>\n",
       "      <td>NaN</td>\n",
       "      <td>NaN</td>\n",
       "      <td>Embarcado</td>\n",
       "      <td>21/06/23 - Embarcado RT322966124 (PARADA)</td>\n",
       "      <td>27/10/2023 - Mudança para fase de processament...</td>\n",
       "    </tr>\n",
       "  </tbody>\n",
       "</table>\n",
       "<p>5 rows × 96 columns</p>\n",
       "</div>"
      ],
      "text/plain": [
       "   Chiclet UEP Status do Processamento Prioridade  Data da Necessidade  \\\n",
       "0          NaN   Concluída. Com Pedido          0                  NaN   \n",
       "1          NaN   Concluída. Com Pedido          0                  NaN   \n",
       "2          NaN   Concluída. Com Pedido          0                  NaN   \n",
       "3          NaN   Concluída. Com Pedido          0                  NaN   \n",
       "4          NaN   Concluída. Com Pedido          0                  NaN   \n",
       "\n",
       "    Data Emissão da SS  Duração Vencimento da Necessidade (dias)  \\\n",
       "0           20/04/2023                                       NaN   \n",
       "1  2023-05-04 00:00:00                                       NaN   \n",
       "2  2023-04-19 00:00:00                                       NaN   \n",
       "3           08/03/2023                                       NaN   \n",
       "4           10/05/2023                                       NaN   \n",
       "\n",
       "  Data Conclusão da SS  Tempo Conclusão da SS (dias)      Fase SAMC  \\\n",
       "0           2023-08-23                        125.00       EXECUÇÃO   \n",
       "1           2023-06-12                         39.00       EXECUÇÃO   \n",
       "2           2023-07-06                         78.00       EXECUÇÃO   \n",
       "3           2023-06-26                        110.00       EXECUÇÃO   \n",
       "4           2023-08-24                        106.00  PROCESSAMENTO   \n",
       "\n",
       "  Status SAMC em Andamento?  ... Entrega Real \\nDBF  \\\n",
       "0                       SIM  ...         2023-06-22   \n",
       "1                       SIM  ...         2023-06-07   \n",
       "2                       SIM  ...         2023-06-21   \n",
       "3                       SIM  ...         2023-06-21   \n",
       "4                       NÃO  ...         2023-06-22   \n",
       "\n",
       "  Fornecimento do material (Petrobras ou GranIHC) REVESTIMENTO?  \\\n",
       "0                                    GranServices           NaN   \n",
       "1                                    GranServices           NaN   \n",
       "2                                       Petrobras           NaN   \n",
       "3                                    GranServices           NaN   \n",
       "4                                    GranServices           NaN   \n",
       "\n",
       "  RT DE REVESTIMENTO Tipo de Atraso\\nSuprimento Tipo de Atraso\\nCaldeiraria  \\\n",
       "0                NaN                        NaN                         NaN   \n",
       "1                NaN                        NaN                         NaN   \n",
       "2                NaN                        NaN                         NaN   \n",
       "3                NaN                        NaN                         NaN   \n",
       "4                NaN                        NaN                         NaN   \n",
       "\n",
       "  Tipo de Atraso\\nPintura  Status da Posição do Material Fabricado  \\\n",
       "0                     NaN                                Embarcado   \n",
       "1                     NaN                                Embarcado   \n",
       "2                     NaN                                Embarcado   \n",
       "3                     NaN                                Embarcado   \n",
       "4                     NaN                                Embarcado   \n",
       "\n",
       "                           Observações da Contratada  \\\n",
       "0          21/06/23 - Embarcado RT322966124 (PARADA)   \n",
       "1  17/05/23 - Suprimento - Status \"Enc. p/ o forn...   \n",
       "2  10/05/23 - Suprimento - Status \"Aguar. Aprov. ...   \n",
       "3  10/05/23 - Suprimento - Status \"Em Revisão\" no...   \n",
       "4          21/06/23 - Embarcado RT322966124 (PARADA)   \n",
       "\n",
       "                               Observações Petrobras  \n",
       "0                                                NaN  \n",
       "1                                                NaN  \n",
       "2  15/05/2024 -Mudança para fase de processamento...  \n",
       "3                                                NaN  \n",
       "4  27/10/2023 - Mudança para fase de processament...  \n",
       "\n",
       "[5 rows x 96 columns]"
      ]
     },
     "execution_count": 257,
     "metadata": {},
     "output_type": "execute_result"
    }
   ],
   "source": [
    "df.head()"
   ]
  },
  {
   "cell_type": "code",
   "execution_count": 258,
   "metadata": {},
   "outputs": [],
   "source": [
    "df = df.select_dtypes(include=['number', 'category', 'object', 'bool', 'datetime'])\n",
    "\n",
    "# Remove colunas que sejam 100% vazias\n",
    "df = df.dropna(axis=1, how='all')\n",
    "\n",
    "# Remove colunas que tenham apenas 1 valor (são constantes)\n",
    "df = df.loc[:, df.nunique() > 1]\n",
    "\n",
    "# Reseta o índice pra evitar problema com índices esquisitos\n",
    "df = df.reset_index(drop=True)\n",
    "\n",
    "# Substitui valores do tipo 'object' não string por string (só pra garantir)\n",
    "for col in df.select_dtypes(include=['object']).columns:\n",
    "    df[col] = df[col].astype(str)\n"
   ]
  },
  {
   "cell_type": "code",
   "execution_count": 259,
   "metadata": {},
   "outputs": [
    {
     "data": {
      "text/html": [
       "<div>\n",
       "<style scoped>\n",
       "    .dataframe tbody tr th:only-of-type {\n",
       "        vertical-align: middle;\n",
       "    }\n",
       "\n",
       "    .dataframe tbody tr th {\n",
       "        vertical-align: top;\n",
       "    }\n",
       "\n",
       "    .dataframe thead th {\n",
       "        text-align: right;\n",
       "    }\n",
       "</style>\n",
       "<table border=\"1\" class=\"dataframe\">\n",
       "  <thead>\n",
       "    <tr style=\"text-align: right;\">\n",
       "      <th></th>\n",
       "      <th>Status do Processamento</th>\n",
       "      <th>Prioridade</th>\n",
       "      <th>Data Emissão da SS</th>\n",
       "      <th>Fase SAMC</th>\n",
       "      <th>Status SAMC em Andamento?</th>\n",
       "      <th>UEP</th>\n",
       "      <th>Status de Fabricação</th>\n",
       "      <th>Gerência</th>\n",
       "      <th>OM</th>\n",
       "      <th>SS SAMC</th>\n",
       "      <th>...</th>\n",
       "      <th>Semana (Fim Planejado Pintura)</th>\n",
       "      <th>Semana (Fim Replanejado Pintura)</th>\n",
       "      <th>Semana (Fim Real Pintura)</th>\n",
       "      <th>Mês/Ano (Fim Real Pintura)</th>\n",
       "      <th>Duração Atual Atraso Pintura (dias)</th>\n",
       "      <th>Faixa Atraso Pintura (dias)</th>\n",
       "      <th>Fornecimento do material (Petrobras ou GranIHC)</th>\n",
       "      <th>Status da Posição do Material Fabricado</th>\n",
       "      <th>Observações da Contratada</th>\n",
       "      <th>Observações Petrobras</th>\n",
       "    </tr>\n",
       "  </thead>\n",
       "  <tbody>\n",
       "    <tr>\n",
       "      <th>0</th>\n",
       "      <td>Concluída. Com Pedido</td>\n",
       "      <td>0</td>\n",
       "      <td>20/04/2023</td>\n",
       "      <td>EXECUÇÃO</td>\n",
       "      <td>SIM</td>\n",
       "      <td>P58-Lote 3</td>\n",
       "      <td>Concluída Com Pedido. Material Embarcado</td>\n",
       "      <td>PPGM-I</td>\n",
       "      <td>2027489890</td>\n",
       "      <td>SS-334/2023</td>\n",
       "      <td>...</td>\n",
       "      <td>S26</td>\n",
       "      <td>S26</td>\n",
       "      <td>S24</td>\n",
       "      <td>6/2023</td>\n",
       "      <td>-13</td>\n",
       "      <td>SEM ATRASO</td>\n",
       "      <td>GranServices</td>\n",
       "      <td>Embarcado</td>\n",
       "      <td>21/06/23 - Embarcado RT322966124 (PARADA)</td>\n",
       "      <td>nan</td>\n",
       "    </tr>\n",
       "    <tr>\n",
       "      <th>1</th>\n",
       "      <td>Concluída. Com Pedido</td>\n",
       "      <td>0</td>\n",
       "      <td>2023-05-04 00:00:00</td>\n",
       "      <td>EXECUÇÃO</td>\n",
       "      <td>SIM</td>\n",
       "      <td>P58-Lote 3</td>\n",
       "      <td>Concluída Com Pedido. Material Embarcado</td>\n",
       "      <td>PPGM-I</td>\n",
       "      <td>2027489705</td>\n",
       "      <td>SS-411/2023</td>\n",
       "      <td>...</td>\n",
       "      <td>S27</td>\n",
       "      <td>S27</td>\n",
       "      <td>S22</td>\n",
       "      <td>6/2023</td>\n",
       "      <td>-31</td>\n",
       "      <td>SEM ATRASO</td>\n",
       "      <td>GranServices</td>\n",
       "      <td>Embarcado</td>\n",
       "      <td>17/05/23 - Suprimento - Status \"Enc. p/ o forn...</td>\n",
       "      <td>nan</td>\n",
       "    </tr>\n",
       "    <tr>\n",
       "      <th>2</th>\n",
       "      <td>Concluída. Com Pedido</td>\n",
       "      <td>0</td>\n",
       "      <td>2023-04-19 00:00:00</td>\n",
       "      <td>EXECUÇÃO</td>\n",
       "      <td>SIM</td>\n",
       "      <td>P58-Lote 3</td>\n",
       "      <td>Concluída Com Pedido. Material Embarcado</td>\n",
       "      <td>PPGM-I</td>\n",
       "      <td>2026562671</td>\n",
       "      <td>SS-184/2023</td>\n",
       "      <td>...</td>\n",
       "      <td>S30</td>\n",
       "      <td>S30</td>\n",
       "      <td>S25</td>\n",
       "      <td>6/2023</td>\n",
       "      <td>-38</td>\n",
       "      <td>SEM ATRASO</td>\n",
       "      <td>Petrobras</td>\n",
       "      <td>Embarcado</td>\n",
       "      <td>10/05/23 - Suprimento - Status \"Aguar. Aprov. ...</td>\n",
       "      <td>15/05/2024 -Mudança para fase de processamento...</td>\n",
       "    </tr>\n",
       "    <tr>\n",
       "      <th>3</th>\n",
       "      <td>Concluída. Com Pedido</td>\n",
       "      <td>0</td>\n",
       "      <td>08/03/2023</td>\n",
       "      <td>EXECUÇÃO</td>\n",
       "      <td>SIM</td>\n",
       "      <td>P58-Lote 3</td>\n",
       "      <td>Concluída Com Pedido. Material Embarcado</td>\n",
       "      <td>PPGM-I</td>\n",
       "      <td>2027307122</td>\n",
       "      <td>SS-166/2023</td>\n",
       "      <td>...</td>\n",
       "      <td>S33</td>\n",
       "      <td>S33</td>\n",
       "      <td>S24</td>\n",
       "      <td>6/2023</td>\n",
       "      <td>-58</td>\n",
       "      <td>SEM ATRASO</td>\n",
       "      <td>GranServices</td>\n",
       "      <td>Embarcado</td>\n",
       "      <td>10/05/23 - Suprimento - Status \"Em Revisão\" no...</td>\n",
       "      <td>nan</td>\n",
       "    </tr>\n",
       "    <tr>\n",
       "      <th>4</th>\n",
       "      <td>Concluída. Com Pedido</td>\n",
       "      <td>0</td>\n",
       "      <td>10/05/2023</td>\n",
       "      <td>PROCESSAMENTO</td>\n",
       "      <td>NÃO</td>\n",
       "      <td>P58-Lote 3</td>\n",
       "      <td>Concluída Com Pedido. Material Embarcado</td>\n",
       "      <td>PPGM-I</td>\n",
       "      <td>2027458744</td>\n",
       "      <td>SS-338/2023</td>\n",
       "      <td>...</td>\n",
       "      <td>S37</td>\n",
       "      <td>S37</td>\n",
       "      <td>S25</td>\n",
       "      <td>6/2023</td>\n",
       "      <td>-86</td>\n",
       "      <td>SEM ATRASO</td>\n",
       "      <td>GranServices</td>\n",
       "      <td>Embarcado</td>\n",
       "      <td>21/06/23 - Embarcado RT322966124 (PARADA)</td>\n",
       "      <td>27/10/2023 - Mudança para fase de processament...</td>\n",
       "    </tr>\n",
       "  </tbody>\n",
       "</table>\n",
       "<p>5 rows × 52 columns</p>\n",
       "</div>"
      ],
      "text/plain": [
       "  Status do Processamento Prioridade   Data Emissão da SS      Fase SAMC  \\\n",
       "0   Concluída. Com Pedido          0           20/04/2023       EXECUÇÃO   \n",
       "1   Concluída. Com Pedido          0  2023-05-04 00:00:00       EXECUÇÃO   \n",
       "2   Concluída. Com Pedido          0  2023-04-19 00:00:00       EXECUÇÃO   \n",
       "3   Concluída. Com Pedido          0           08/03/2023       EXECUÇÃO   \n",
       "4   Concluída. Com Pedido          0           10/05/2023  PROCESSAMENTO   \n",
       "\n",
       "  Status SAMC em Andamento?         UEP  \\\n",
       "0                       SIM  P58-Lote 3   \n",
       "1                       SIM  P58-Lote 3   \n",
       "2                       SIM  P58-Lote 3   \n",
       "3                       SIM  P58-Lote 3   \n",
       "4                       NÃO  P58-Lote 3   \n",
       "\n",
       "                       Status de Fabricação Gerência          OM      SS SAMC  \\\n",
       "0  Concluída Com Pedido. Material Embarcado   PPGM-I  2027489890  SS-334/2023   \n",
       "1  Concluída Com Pedido. Material Embarcado   PPGM-I  2027489705  SS-411/2023   \n",
       "2  Concluída Com Pedido. Material Embarcado   PPGM-I  2026562671  SS-184/2023   \n",
       "3  Concluída Com Pedido. Material Embarcado   PPGM-I  2027307122  SS-166/2023   \n",
       "4  Concluída Com Pedido. Material Embarcado   PPGM-I  2027458744  SS-338/2023   \n",
       "\n",
       "   ... Semana (Fim Planejado Pintura) Semana (Fim Replanejado Pintura)  \\\n",
       "0  ...                            S26                              S26   \n",
       "1  ...                            S27                              S27   \n",
       "2  ...                            S30                              S30   \n",
       "3  ...                            S33                              S33   \n",
       "4  ...                            S37                              S37   \n",
       "\n",
       "  Semana (Fim Real Pintura) Mês/Ano (Fim Real Pintura)  \\\n",
       "0                       S24                     6/2023   \n",
       "1                       S22                     6/2023   \n",
       "2                       S25                     6/2023   \n",
       "3                       S24                     6/2023   \n",
       "4                       S25                     6/2023   \n",
       "\n",
       "  Duração Atual Atraso Pintura (dias) Faixa Atraso Pintura (dias)  \\\n",
       "0                                 -13                  SEM ATRASO   \n",
       "1                                 -31                  SEM ATRASO   \n",
       "2                                 -38                  SEM ATRASO   \n",
       "3                                 -58                  SEM ATRASO   \n",
       "4                                 -86                  SEM ATRASO   \n",
       "\n",
       "  Fornecimento do material (Petrobras ou GranIHC)  \\\n",
       "0                                    GranServices   \n",
       "1                                    GranServices   \n",
       "2                                       Petrobras   \n",
       "3                                    GranServices   \n",
       "4                                    GranServices   \n",
       "\n",
       "  Status da Posição do Material Fabricado  \\\n",
       "0                               Embarcado   \n",
       "1                               Embarcado   \n",
       "2                               Embarcado   \n",
       "3                               Embarcado   \n",
       "4                               Embarcado   \n",
       "\n",
       "                           Observações da Contratada  \\\n",
       "0          21/06/23 - Embarcado RT322966124 (PARADA)   \n",
       "1  17/05/23 - Suprimento - Status \"Enc. p/ o forn...   \n",
       "2  10/05/23 - Suprimento - Status \"Aguar. Aprov. ...   \n",
       "3  10/05/23 - Suprimento - Status \"Em Revisão\" no...   \n",
       "4          21/06/23 - Embarcado RT322966124 (PARADA)   \n",
       "\n",
       "                               Observações Petrobras  \n",
       "0                                                nan  \n",
       "1                                                nan  \n",
       "2  15/05/2024 -Mudança para fase de processamento...  \n",
       "3                                                nan  \n",
       "4  27/10/2023 - Mudança para fase de processament...  \n",
       "\n",
       "[5 rows x 52 columns]"
      ]
     },
     "execution_count": 259,
     "metadata": {},
     "output_type": "execute_result"
    }
   ],
   "source": [
    "df[df.select_dtypes(['object']).columns].head()"
   ]
  },
  {
   "cell_type": "code",
   "execution_count": 260,
   "metadata": {},
   "outputs": [
    {
     "data": {
      "text/plain": [
       "Index(['Status do Processamento', 'Prioridade', 'Data Emissão da SS',\n",
       "       'Data Conclusão da SS', 'Tempo Conclusão da SS (dias)', 'Fase SAMC',\n",
       "       'Status SAMC em Andamento?', 'UEP', 'Status de Fabricação', 'Gerência',\n",
       "       'OM', 'SS SAMC', 'UEP-GERÊNCIA-SS-OM',\n",
       "       'Texto Breve do Serviço (Titulo SS)', '% Avanço', 'Peso Tub. (Kg)',\n",
       "       'Peso Estr. (Kg)', 'Peso Total (Kg)', 'Peso Total Tub (Ton)',\n",
       "       'Peso Total Est (Ton)', 'Peso Total (Ton)',\n",
       "       'Código do Projeto de Detalhamento', 'Tipo de Material',\n",
       "       'Inicio Planejado Suprimento', 'Início Replanejado Suprimento',\n",
       "       'Início Real Suprimento', 'Fim Planejado Suprimento',\n",
       "       'Fim Replanejado Suprimento', 'Fim Real Suprimento',\n",
       "       'Tempo Conclusão Suprimento Planejado (dias)',\n",
       "       'Tempo Conclusão Suprimento (dias)',\n",
       "       'Suprimento Planejado x Realizado(dias)',\n",
       "       'Semana Inicio Planejado Suprimento)',\n",
       "       'Semana (Inicio Replanejado Suprimento)',\n",
       "       'Semana (Fim Real Suprimento)', 'Semana (Fim Planejado Suprimento)',\n",
       "       'Semana (Fim Replanejado Suprimento)', 'Semana (Fim Real Suprimento).1',\n",
       "       'Mês/Ano (Fim Real Suprimento)',\n",
       "       'Duração Atual Atraso Suprimento (dias)',\n",
       "       'Faixa Atraso Suprimento (dias)',\n",
       "       'Fim Real do Suprimento x Inicio Real da Caldeiraria (dias)',\n",
       "       'Inicio Planejado Caldeiraria', 'Início Replanejado Caldeiraria',\n",
       "       'Inicio Real Caldeiraria', 'Fim Planejado Caldeiraria',\n",
       "       'Fim Replanejado Caldeiraria', 'Fim Real Caldeiraria',\n",
       "       'Tempo Conclusão Caldeiraria Planejado (dias)',\n",
       "       'Tempo Conclusão Caldeiraria (dias)',\n",
       "       'Semana (Inicio Planejado Caldeiraria)',\n",
       "       'Caldeiraria Planejado x Realizado(dias)',\n",
       "       'Semana (Inicio Replanejado Caldeiraria)',\n",
       "       'Semana (Inicio Real Caldeiraria)',\n",
       "       'Semana (Fim Planejado Caldeiraria)',\n",
       "       'Semana (Fim Replanejado Caldeiraria)', 'Semana (Fim Real Caldeiraria)',\n",
       "       'Mês/Ano (Fim Real Caldeiraria)',\n",
       "       'Duração Atual Atraso Caldeiraria (dias)',\n",
       "       'Faixa Atraso Caldeiraria (dias)', 'PRAZOS DE MPT ',\n",
       "       'Inicio Planejado Pintura', 'Início Replanejado Pintura',\n",
       "       'Inicio Real Pintura', 'Fim Planejado Pintura',\n",
       "       'Fim Replanejado Pintura', 'Fim Real Pintura',\n",
       "       'Tempo Conclusão Pintura Planejado (dias)',\n",
       "       'Tempo Conclusão Pintura (dias)', 'Pintura Planejado x Realizado(dias)',\n",
       "       'Tempo de estoque(Dias)', 'Tempo Conclusão  SS(dias)',\n",
       "       'Faixa de estoque(Dias)', 'Semana Inicio Planejado Pintura)',\n",
       "       'Semana Inicio Replanejado Pintura)', 'Semana Inicio Real Pintura)',\n",
       "       'Semana (Fim Planejado Pintura)', 'Semana (Fim Replanejado Pintura)',\n",
       "       'Semana (Fim Real Pintura)', 'Mês/Ano (Fim Real Pintura)',\n",
       "       'Duração Atual Atraso Pintura (dias)', 'Faixa Atraso Pintura (dias)',\n",
       "       'Entrega Planejado DBF', 'Entrega Real \\nDBF',\n",
       "       'Fornecimento do material (Petrobras ou GranIHC)',\n",
       "       'Status da Posição do Material Fabricado', 'Observações da Contratada',\n",
       "       'Observações Petrobras'],\n",
       "      dtype='object')"
      ]
     },
     "execution_count": 260,
     "metadata": {},
     "output_type": "execute_result"
    }
   ],
   "source": [
    "df.columns"
   ]
  },
  {
   "cell_type": "code",
   "execution_count": 261,
   "metadata": {},
   "outputs": [],
   "source": [
    "#Filtragem\n",
    "df_filtrado = df[df['Fim Real Caldeiraria'].notna()]\n",
    "df_filtrado = df_filtrado[\n",
    "    (df_filtrado['Fim Real Caldeiraria'] >= '2023-06-01') &\n",
    "    (df_filtrado['Fim Real Caldeiraria'] <= '2027-07-31')\n",
    "]"
   ]
  },
  {
   "cell_type": "code",
   "execution_count": 262,
   "metadata": {},
   "outputs": [],
   "source": [
    "media_mensal = df_filtrado.groupby(pd.Grouper(key='Fim Real Caldeiraria', freq='M'))['Peso Total (Ton)'].mean()"
   ]
  },
  {
   "cell_type": "code",
   "execution_count": 263,
   "metadata": {},
   "outputs": [],
   "source": [
    "acumulado_mensal = df_filtrado.groupby(pd.Grouper(key='Fim Real Caldeiraria', freq='M'))['Peso Total (Ton)'].sum().cumsum()"
   ]
  },
  {
   "cell_type": "code",
   "execution_count": 264,
   "metadata": {},
   "outputs": [],
   "source": [
    "from statsmodels.tsa.stattools import adfuller\n",
    "adf_media = adfuller(media_mensal.dropna())\n",
    "adf_acumulado = adfuller(acumulado_mensal.dropna())"
   ]
  },
  {
   "cell_type": "code",
   "execution_count": 265,
   "metadata": {},
   "outputs": [],
   "source": [
    "# Filtrar onde há preenchimento e data válida\n",
    "df_filtrado = df[df['Fim Real Caldeiraria'].notna()]\n",
    "df_filtrado = df_filtrado[\n",
    "    (df_filtrado['Fim Real Caldeiraria'] >= '2023-06-01') &\n",
    "    (df_filtrado['Fim Real Caldeiraria'] <= pd.to_datetime('today'))\n",
    "]"
   ]
  },
  {
   "cell_type": "code",
   "execution_count": 266,
   "metadata": {},
   "outputs": [],
   "source": [
    "# Criando series temporais\n",
    "media_mensal = df_filtrado.groupby(\n",
    "    pd.Grouper(key='Fim Real Caldeiraria', freq='M')\n",
    ")['Peso Total (Ton)'].mean()\n",
    "\n",
    "# Acumulado mensal (com soma mensal seguida de cumsum)\n",
    "acumulado_mensal = df_filtrado.groupby(\n",
    "    pd.Grouper(key='Fim Real Caldeiraria', freq='M')\n",
    ")['Peso Total (Ton)'].sum().cumsum()"
   ]
  },
  {
   "cell_type": "code",
   "execution_count": 267,
   "metadata": {},
   "outputs": [
    {
     "name": "stdout",
     "output_type": "stream",
     "text": [
      "=== ADF - Média Mensal ===\n",
      "ADF Statistic: -6.214281577634637\n",
      "p-value: 5.413183781783402e-08\n"
     ]
    }
   ],
   "source": [
    "# Teste de estacionaridade\n",
    "from statsmodels.tsa.stattools import adfuller\n",
    "adf_media = adfuller(media_mensal.dropna())\n",
    "print(\"=== ADF - Média Mensal ===\")\n",
    "print(f\"ADF Statistic: {adf_media[0]}\")\n",
    "print(f\"p-value: {adf_media[1]}\")"
   ]
  },
  {
   "cell_type": "code",
   "execution_count": 268,
   "metadata": {},
   "outputs": [
    {
     "name": "stdout",
     "output_type": "stream",
     "text": [
      "\n",
      "=== ADF - Acumulado Mensal ===\n",
      "ADF Statistic: 0.1933348475658866\n",
      "p-value: 0.9718852784130061\n"
     ]
    }
   ],
   "source": [
    "#Teste adf para acumulado\n",
    "adf_acumulado = adfuller(acumulado_mensal.dropna())\n",
    "print(\"\\n=== ADF - Acumulado Mensal ===\")\n",
    "print(f\"ADF Statistic: {adf_acumulado[0]}\")\n",
    "print(f\"p-value: {adf_acumulado[1]}\")"
   ]
  },
  {
   "cell_type": "code",
   "execution_count": 269,
   "metadata": {},
   "outputs": [],
   "source": [
    "#Ajustando o modelo de serie acumulada\n",
    "fabricados = df.dropna(subset=['Fim Real Caldeiraria'])\n",
    "serie_mensal = fabricados.groupby(pd.Grouper(key='Fim Real Caldeiraria', freq='M'))['Peso Total (Ton)'].sum()\n",
    "serie_total = serie_mensal.last('23M')\n",
    "\n",
    "# Série acumulada\n",
    "serie_acumulada = serie_total.cumsum()"
   ]
  },
  {
   "cell_type": "code",
   "execution_count": 270,
   "metadata": {},
   "outputs": [],
   "source": [
    "#Arima ajustado\n",
    "modelo_acum = ARIMA(serie_acumulada, order=(1, 1, 3))\n",
    "modelo_acum_fit = modelo_acum.fit()"
   ]
  },
  {
   "cell_type": "code",
   "execution_count": 271,
   "metadata": {},
   "outputs": [
    {
     "data": {
      "image/png": "[encoded data removed]",
      "text/plain": [
       "<Figure size 1200x600 with 2 Axes>"
      ]
     },
     "metadata": {},
     "output_type": "display_data"
    }
   ],
   "source": [
    "from statsmodels.graphics.tsaplots import plot_acf, plot_pacf\n",
    "import matplotlib.pyplot as plt\n",
    "\n",
    "fig, ax = plt.subplots(2, 1, figsize=(12, 6))\n",
    "plot_acf(media_mensal.dropna(), ax=ax[0])\n",
    "plot_pacf(media_mensal.dropna(), ax=ax[1])\n",
    "plt.suptitle(\"ACF e PACF - Média Mensal\")\n",
    "plt.tight_layout()\n",
    "plt.show()"
   ]
  },
  {
   "cell_type": "code",
   "execution_count": 272,
   "metadata": {},
   "outputs": [
    {
     "name": "stdout",
     "output_type": "stream",
     "text": [
      "\n",
      "Shapiro-Wilk Test: Statistic=0.9332072871559339, p-value=0.12828356329390522\n"
     ]
    }
   ],
   "source": [
    "# realizando o teste de normalidade de residuos\n",
    "from scipy.stats import shapiro\n",
    "\n",
    "residuos = modelo_fit.resid\n",
    "stat, p = shapiro(residuos)\n",
    "print(f\"\\nShapiro-Wilk Test: Statistic={stat}, p-value={p}\")"
   ]
  },
  {
   "cell_type": "code",
   "execution_count": 273,
   "metadata": {},
   "outputs": [],
   "source": [
    "# Previsão de média mensal\n",
    "from statsmodels.tsa.arima.model import ARIMA\n",
    "import numpy as np\n",
    "\n",
    "# Parâmetros e período\n",
    "data_fim_proj = pd.to_datetime(\"2027-07-31\")\n",
    "n_periodos = (data_fim_proj.to_period(\"M\") - media_mensal.index[-1].to_period(\"M\")).n + 1\n",
    "\n",
    "# Modelo base\n",
    "modelo_media = ARIMA(media_mensal, order=(1,0,3)).fit()\n",
    "\n",
    "# Previsão com intervalo de 80%\n",
    "forecast_media = modelo_media.get_forecast(steps=n_periodos)\n",
    "previsao_realista = forecast_media.predicted_mean\n",
    "ic = forecast_media.conf_int(alpha=0.20)\n",
    "\n",
    "previsao_otimista = ic.iloc[:, 1]  # limite superior\n",
    "previsao_pessimista = ic.iloc[:, 0]  # limite inferior\n",
    "\n",
    "datas_futuras = pd.date_range(start=media_mensal.index[-1] + pd.offsets.MonthEnd(), periods=n_periodos, freq='M')\n",
    "\n"
   ]
  },
  {
   "cell_type": "code",
   "execution_count": 274,
   "metadata": {},
   "outputs": [],
   "source": [
    "serie_mensal = fabricados.groupby(pd.Grouper(key='Fim Real Caldeiraria', freq='M'))['Peso Total (Ton)'].sum()\n",
    "serie_total = serie_mensal.last('23M')  # <-- Verifique se está correto!"
   ]
  },
  {
   "cell_type": "code",
   "execution_count": 275,
   "metadata": {},
   "outputs": [
    {
     "name": "stdout",
     "output_type": "stream",
     "text": [
      "=== Previsão da Média Mensal (Ton) até Julho/2027 ===\n",
      "\n",
      "2025-05: Realista = 24.39 | Pessimista = 19.51 | Otimista = 29.26\n",
      "2025-06: Realista = 23.18 | Pessimista = 18.54 | Otimista = 27.82\n",
      "2025-07: Realista = 21.23 | Pessimista = 16.98 | Otimista = 25.48\n",
      "2025-08: Realista = 17.98 | Pessimista = 14.38 | Otimista = 21.58\n",
      "2025-09: Realista = 18.73 | Pessimista = 14.99 | Otimista = 22.48\n",
      "2025-10: Realista = 18.56 | Pessimista = 14.85 | Otimista = 22.27\n",
      "2025-11: Realista = 18.60 | Pessimista = 14.88 | Otimista = 22.32\n",
      "2025-12: Realista = 18.59 | Pessimista = 14.87 | Otimista = 22.31\n",
      "2026-01: Realista = 18.59 | Pessimista = 14.87 | Otimista = 22.31\n",
      "2026-02: Realista = 18.59 | Pessimista = 14.87 | Otimista = 22.31\n",
      "2026-03: Realista = 18.59 | Pessimista = 14.87 | Otimista = 22.31\n",
      "2026-04: Realista = 18.59 | Pessimista = 14.87 | Otimista = 22.31\n",
      "2026-05: Realista = 18.59 | Pessimista = 14.87 | Otimista = 22.31\n",
      "2026-06: Realista = 18.59 | Pessimista = 14.87 | Otimista = 22.31\n",
      "2026-07: Realista = 18.59 | Pessimista = 14.87 | Otimista = 22.31\n",
      "2026-08: Realista = 18.59 | Pessimista = 14.87 | Otimista = 22.31\n",
      "2026-09: Realista = 18.59 | Pessimista = 14.87 | Otimista = 22.31\n",
      "2026-10: Realista = 18.59 | Pessimista = 14.87 | Otimista = 22.31\n",
      "2026-11: Realista = 18.59 | Pessimista = 14.87 | Otimista = 22.31\n",
      "2026-12: Realista = 18.59 | Pessimista = 14.87 | Otimista = 22.31\n",
      "2027-01: Realista = 18.59 | Pessimista = 14.87 | Otimista = 22.31\n",
      "2027-02: Realista = 18.59 | Pessimista = 14.87 | Otimista = 22.31\n",
      "2027-03: Realista = 18.59 | Pessimista = 14.87 | Otimista = 22.31\n",
      "2027-04: Realista = 18.59 | Pessimista = 14.87 | Otimista = 22.31\n",
      "2027-05: Realista = 18.59 | Pessimista = 14.87 | Otimista = 22.31\n",
      "2027-06: Realista = 18.59 | Pessimista = 14.87 | Otimista = 22.31\n",
      "2027-07: Realista = 18.59 | Pessimista = 14.87 | Otimista = 22.31\n",
      "2027-08: Realista = 18.59 | Pessimista = 14.87 | Otimista = 22.31\n"
     ]
    },
    {
     "data": {
      "image/png": "[encoded data removed]",
      "text/plain": [
       "<Figure size 1400x600 with 1 Axes>"
      ]
     },
     "metadata": {},
     "output_type": "display_data"
    }
   ],
   "source": [
    "#corrigindo a serie mensal\n",
    "# 1. Filtrar apenas registros com fabricação concluída até hoje\n",
    "df['Fim Real Caldeiraria'] = pd.to_datetime(df['Fim Real Caldeiraria'])\n",
    "fabricados = df[(df['Fim Real Caldeiraria'].notna()) & \n",
    "                (df['Fim Real Caldeiraria'] <= pd.to_datetime('today'))]\n",
    "\n",
    "# 2. Agrupar por mês e somar o peso\n",
    "serie_mensal = fabricados.groupby(\n",
    "    pd.Grouper(key='Fim Real Caldeiraria', freq='M')\n",
    ")['Peso Total (Ton)'].sum()\n",
    "\n",
    "# 3. Pegar os últimos 23 meses (ou o intervalo desejado)\n",
    "serie_total = serie_mensal.last('23M')\n",
    "\n",
    "# 4. Treinar o modelo ARIMA ajustado\n",
    "modelo = ARIMA(serie_total, order=(1,0,3))  # parâmetros ideais\n",
    "modelo_fit = modelo.fit()\n",
    "\n",
    "# 5. Gerar previsões até Julho/2027\n",
    "data_fim = pd.to_datetime('2027-07-30')\n",
    "periodos = (data_fim.to_period('M') - serie_total.index[-1].to_period('M')).n + 1\n",
    "previsao_realista = modelo_fit.forecast(steps=periodos)\n",
    "\n",
    "# 6. Criar cenários otimista e pessimista com ±20%\n",
    "previsao_otimista = previsao_realista * 1.2\n",
    "previsao_pessimista = previsao_realista * 0.8\n",
    "\n",
    "# 7. Gerar datas futuras para o eixo x\n",
    "datas_futuras = pd.date_range(start=serie_total.index[-1] + pd.offsets.MonthEnd(), \n",
    "                              periods=periodos, freq='M')\n",
    "\n",
    "# 8. Print de validação\n",
    "print(\"=== Previsão da Média Mensal (Ton) até Julho/2027 ===\\n\")\n",
    "for data, real, pess, otm in zip(datas_futuras, previsao_realista, previsao_pessimista, previsao_otimista):\n",
    "    print(f\"{data.strftime('%Y-%m')}: Realista = {real:.2f} | Pessimista = {pess:.2f} | Otimista = {otm:.2f}\")\n",
    "\n",
    "# 9. Plot gráfico com Matplotlib\n",
    "plt.figure(figsize=(14,6))\n",
    "plt.plot(serie_total.index, serie_total.values, label='Histórico Real', color='black', linewidth=2)\n",
    "plt.plot(datas_futuras, previsao_realista, label='Cenário Realista', color='blue')\n",
    "plt.plot(datas_futuras, previsao_otimista, label='Cenário Otimista', color='green', linestyle='--')\n",
    "plt.plot(datas_futuras, previsao_pessimista, label='Cenário Pessimista', color='red', linestyle='--')\n",
    "\n",
    "plt.title('Projeção de Peso Médio Mensal (Ton) até Julho/2027\\nIntervalo de Confiança Estimado: ±20%')\n",
    "plt.xlabel('Data')\n",
    "plt.ylabel('Peso Total (Ton)')\n",
    "plt.legend()\n",
    "plt.grid(True)\n",
    "plt.tight_layout()\n",
    "plt.show()"
   ]
  },
  {
   "cell_type": "code",
   "execution_count": 276,
   "metadata": {},
   "outputs": [],
   "source": [
    "# Série mensal de soma\n",
    "soma_mensal = df_filtrado.groupby(\n",
    "    pd.Grouper(key='Fim Real Caldeiraria', freq='M')\n",
    ")['Peso Total (Ton)'].sum()\n",
    "\n",
    "soma_modelo = ARIMA(soma_mensal, order=(1,0,3)).fit()\n",
    "forecast_soma = soma_modelo.get_forecast(steps=n_periodos)\n",
    "previsao_soma_realista = forecast_soma.predicted_mean\n",
    "ic_soma = forecast_soma.conf_int(alpha=0.20)\n",
    "\n",
    "# Cenários\n",
    "soma_otimista = ic_soma.iloc[:, 1]\n",
    "soma_pessimista = ic_soma.iloc[:, 0]\n",
    "\n",
    "# Construir acumulado artificial futuro com base na última soma real\n",
    "ultimo_valor_real = soma_mensal.cumsum().iloc[-1]\n",
    "\n",
    "acumulado_realista = np.cumsum(previsao_soma_realista) + ultimo_valor_real\n",
    "acumulado_otimista = np.cumsum(soma_otimista) + ultimo_valor_real\n",
    "acumulado_pessimista = np.cumsum(soma_pessimista) + ultimo_valor_real"
   ]
  },
  {
   "cell_type": "code",
   "execution_count": 277,
   "metadata": {},
   "outputs": [
    {
     "name": "stdout",
     "output_type": "stream",
     "text": [
      "\n",
      "Previsão do Acumulado (Ton) até Julho/2027\n",
      "\n",
      "2025-05: Realista = 447.46 | Pessimista = 438.70 | Otimista = 456.21\n",
      "2025-06: Realista = 470.64 | Pessimista = 452.38 | Otimista = 488.89\n",
      "2025-07: Realista = 491.87 | Pessimista = 463.67 | Otimista = 520.06\n",
      "2025-08: Realista = 509.85 | Pessimista = 471.53 | Otimista = 548.17\n",
      "2025-09: Realista = 528.58 | Pessimista = 480.13 | Otimista = 577.03\n",
      "2025-10: Realista = 547.14 | Pessimista = 488.56 | Otimista = 605.72\n",
      "2025-11: Realista = 565.74 | Pessimista = 497.02 | Otimista = 634.45\n",
      "2025-12: Realista = 584.33 | Pessimista = 505.48 | Otimista = 663.18\n",
      "2026-01: Realista = 602.92 | Pessimista = 513.94 | Otimista = 691.90\n",
      "2026-02: Realista = 621.52 | Pessimista = 522.41 | Otimista = 720.63\n",
      "2026-03: Realista = 640.11 | Pessimista = 530.87 | Otimista = 749.35\n",
      "2026-04: Realista = 658.70 | Pessimista = 539.33 | Otimista = 778.07\n",
      "2026-05: Realista = 677.29 | Pessimista = 547.79 | Otimista = 806.80\n",
      "2026-06: Realista = 695.88 | Pessimista = 556.25 | Otimista = 835.52\n",
      "2026-07: Realista = 714.48 | Pessimista = 564.71 | Otimista = 864.25\n",
      "2026-08: Realista = 733.07 | Pessimista = 573.17 | Otimista = 892.97\n",
      "2026-09: Realista = 751.66 | Pessimista = 581.63 | Otimista = 921.69\n",
      "2026-10: Realista = 770.25 | Pessimista = 590.09 | Otimista = 950.42\n",
      "2026-11: Realista = 788.85 | Pessimista = 598.55 | Otimista = 979.14\n",
      "2026-12: Realista = 807.44 | Pessimista = 607.01 | Otimista = 1007.87\n",
      "2027-01: Realista = 826.03 | Pessimista = 615.47 | Otimista = 1036.59\n",
      "2027-02: Realista = 844.62 | Pessimista = 623.93 | Otimista = 1065.31\n",
      "2027-03: Realista = 863.22 | Pessimista = 632.39 | Otimista = 1094.04\n",
      "2027-04: Realista = 881.81 | Pessimista = 640.85 | Otimista = 1122.76\n",
      "2027-05: Realista = 900.40 | Pessimista = 649.31 | Otimista = 1151.49\n",
      "2027-06: Realista = 918.99 | Pessimista = 657.77 | Otimista = 1180.21\n",
      "2027-07: Realista = 937.58 | Pessimista = 666.24 | Otimista = 1208.93\n",
      "2027-08: Realista = 956.18 | Pessimista = 674.70 | Otimista = 1237.66\n"
     ]
    }
   ],
   "source": [
    "datas_futuras = pd.date_range(start=soma_mensal.index[-1] + pd.offsets.MonthEnd(), periods=n_periodos, freq='M')\n",
    "print(\"\\nPrevisão do Acumulado (Ton) até Julho/2027\\n\")\n",
    "for data, real, pess, otm in zip(datas_futuras, acumulado_realista, acumulado_pessimista, acumulado_otimista):\n",
    "    print(f\"{data.strftime('%Y-%m')}: Realista = {real:.2f} | Pessimista = {pess:.2f} | Otimista = {otm:.2f}\")"
   ]
  },
  {
   "cell_type": "code",
   "execution_count": 278,
   "metadata": {},
   "outputs": [
    {
     "data": {
      "application/vnd.plotly.v1+json": {
       "config": {
        "plotlyServerURL": "https://plot.ly"
       },
       "data": [
        {
         "line": {
          "color": "black",
          "width": 2
         },
         "mode": "lines+markers",
         "name": "Histórico Real",
         "type": "scatter",
         "x": [
          "2023-06-30T00:00:00.000000000",
          "2023-07-31T00:00:00.000000000",
          "2023-08-31T00:00:00.000000000",
          "2023-09-30T00:00:00.000000000",
          "2023-10-31T00:00:00.000000000",
          "2023-11-30T00:00:00.000000000",
          "2023-12-31T00:00:00.000000000",
          "2024-01-31T00:00:00.000000000",
          "2024-02-29T00:00:00.000000000",
          "2024-03-31T00:00:00.000000000",
          "2024-04-30T00:00:00.000000000",
          "2024-05-31T00:00:00.000000000",
          "2024-06-30T00:00:00.000000000",
          "2024-07-31T00:00:00.000000000",
          "2024-08-31T00:00:00.000000000",
          "2024-09-30T00:00:00.000000000",
          "2024-10-31T00:00:00.000000000",
          "2024-11-30T00:00:00.000000000",
          "2024-12-31T00:00:00.000000000",
          "2025-01-31T00:00:00.000000000",
          "2025-02-28T00:00:00.000000000",
          "2025-03-31T00:00:00.000000000",
          "2025-04-30T00:00:00.000000000"
         ],
         "y": {
          "bdata": "WMnH7gJrQ0CgFRiyusU0QOyGbYsyayNA0gDeAgm6JkCmJVZGIzczQO1kcJS86ipA2xZlNsj0M0DCpzl5kc01QAvxSLw8BS1AuByvQPSkOUA4Ef3a+rkiQBE7U+i87jlAlWWIY130N0CzB1qBISstQBghPNo4+jFA/YLdsG0BLUDHM2jon/A0QCPW4lMALDdA9KYiFcZWK0Bp/pjWpkdBQD9SRIZVxDBApg2HpYGnJUCpTZzc79D4Pw==",
          "dtype": "f8"
         }
        },
        {
         "line": {
          "color": "blue"
         },
         "mode": "lines",
         "name": "Cenário Realista",
         "type": "scatter",
         "x": [
          "2025-05-31T00:00:00.000000000",
          "2025-06-30T00:00:00.000000000",
          "2025-07-31T00:00:00.000000000",
          "2025-08-31T00:00:00.000000000",
          "2025-09-30T00:00:00.000000000",
          "2025-10-31T00:00:00.000000000",
          "2025-11-30T00:00:00.000000000",
          "2025-12-31T00:00:00.000000000",
          "2026-01-31T00:00:00.000000000",
          "2026-02-28T00:00:00.000000000",
          "2026-03-31T00:00:00.000000000",
          "2026-04-30T00:00:00.000000000",
          "2026-05-31T00:00:00.000000000",
          "2026-06-30T00:00:00.000000000",
          "2026-07-31T00:00:00.000000000",
          "2026-08-31T00:00:00.000000000",
          "2026-09-30T00:00:00.000000000",
          "2026-10-31T00:00:00.000000000",
          "2026-11-30T00:00:00.000000000",
          "2026-12-31T00:00:00.000000000",
          "2027-01-31T00:00:00.000000000",
          "2027-02-28T00:00:00.000000000",
          "2027-03-31T00:00:00.000000000",
          "2027-04-30T00:00:00.000000000",
          "2027-05-31T00:00:00.000000000",
          "2027-06-30T00:00:00.000000000",
          "2027-07-31T00:00:00.000000000",
          "2027-08-31T00:00:00.000000000"
         ],
         "y": {
          "bdata": "CNBM9NJiOECYA48PHy43QH8ntOvAOjVAXIJvTg37MUDiyCY/9LsyQJVOFIg2jzJADGd1EZeZMkAQiH/rLpcyQAz6ydO9lzJA79KMrpyXMkAJlZZepJcyQNXDIJailzJAf3P//6KXMkAbWHHnopcyQKxSI+2ilzJACCrR66KXMkB5mB/sopcyQIxnDeyilzJAqJ8R7KKXMkAkpRDsopcyQD7fEOyilzJAxNEQ7KKXMkDl1BDsopcyQCvUEOyilzJAVtQQ7KKXMkBM1BDsopcyQE7UEOyilzJATtQQ7KKXMkA=",
          "dtype": "f8"
         }
        },
        {
         "line": {
          "color": "green",
          "dash": "dash"
         },
         "mode": "lines",
         "name": "Cenário Otimista",
         "type": "scatter",
         "x": [
          "2025-05-31T00:00:00.000000000",
          "2025-06-30T00:00:00.000000000",
          "2025-07-31T00:00:00.000000000",
          "2025-08-31T00:00:00.000000000",
          "2025-09-30T00:00:00.000000000",
          "2025-10-31T00:00:00.000000000",
          "2025-11-30T00:00:00.000000000",
          "2025-12-31T00:00:00.000000000",
          "2026-01-31T00:00:00.000000000",
          "2026-02-28T00:00:00.000000000",
          "2026-03-31T00:00:00.000000000",
          "2026-04-30T00:00:00.000000000",
          "2026-05-31T00:00:00.000000000",
          "2026-06-30T00:00:00.000000000",
          "2026-07-31T00:00:00.000000000",
          "2026-08-31T00:00:00.000000000",
          "2026-09-30T00:00:00.000000000",
          "2026-10-31T00:00:00.000000000",
          "2026-11-30T00:00:00.000000000",
          "2026-12-31T00:00:00.000000000",
          "2027-01-31T00:00:00.000000000",
          "2027-02-28T00:00:00.000000000",
          "2027-03-31T00:00:00.000000000",
          "2027-04-30T00:00:00.000000000",
          "2027-05-31T00:00:00.000000000",
          "2027-06-30T00:00:00.000000000",
          "2027-07-31T00:00:00.000000000",
          "2027-08-31T00:00:00.000000000"
         ],
         "y": {
          "bdata": "ovSis8WRQECCd3QRaVdAQLhCKIkfLD9AivFpZzMaPEBqohftit08QDKAI8vusDxAIwD8IlG7PED48OYV6bg8QI3+h/93uTxAokVd2la5PECNBWiKXrk8QABC8sFcuTxAZvLQK125PEAM10ITXbk8QJ7R9BhduTxA+qiiF125PEBrF/EXXbk8QH7m3hdduTxAmh7jF125PEAWJOIXXbk8QDBe4hdduTxAtlDiF125PEDXU+IXXbk8QB1T4hdduTxASFPiF125PEA+U+IXXbk8QEBT4hdduTxAQFPiF125PEA=",
          "dtype": "f8"
         }
        },
        {
         "line": {
          "color": "red",
          "dash": "dash"
         },
         "mode": "lines",
         "name": "Cenário Pessimista",
         "type": "scatter",
         "x": [
          "2025-05-31T00:00:00.000000000",
          "2025-06-30T00:00:00.000000000",
          "2025-07-31T00:00:00.000000000",
          "2025-08-31T00:00:00.000000000",
          "2025-09-30T00:00:00.000000000",
          "2025-10-31T00:00:00.000000000",
          "2025-11-30T00:00:00.000000000",
          "2025-12-31T00:00:00.000000000",
          "2026-01-31T00:00:00.000000000",
          "2026-02-28T00:00:00.000000000",
          "2026-03-31T00:00:00.000000000",
          "2026-04-30T00:00:00.000000000",
          "2026-05-31T00:00:00.000000000",
          "2026-06-30T00:00:00.000000000",
          "2026-07-31T00:00:00.000000000",
          "2026-08-31T00:00:00.000000000",
          "2026-09-30T00:00:00.000000000",
          "2026-10-31T00:00:00.000000000",
          "2026-11-30T00:00:00.000000000",
          "2026-12-31T00:00:00.000000000",
          "2027-01-31T00:00:00.000000000",
          "2027-02-28T00:00:00.000000000",
          "2027-03-31T00:00:00.000000000",
          "2027-04-30T00:00:00.000000000",
          "2027-05-31T00:00:00.000000000",
          "2027-06-30T00:00:00.000000000",
          "2027-07-31T00:00:00.000000000",
          "2027-08-31T00:00:00.000000000"
         ],
         "y": {
          "bdata": "mW2nAjVEL0BWMGr411orQIsYgJzEkiZAukzU1ZxvH0Cz3msiuzQhQPE5Cor82iBA6pvd/7nvIEBPPjCC6eogQBbrF1AH7CBAd8B4BcXrIEAKSYpl1OsgQFOLntTQ6yBAL+lbqNHrIEBTsj930esgQHSno4LR6yBALFb/f9HrIEAOM5yA0esgQDTRd4DR6yBAbEGAgNHrIEBkTH6A0esgQJjAfoDR6yBApKV+gNHrIEDmq36A0esgQHKqfoDR6yBAyKp+gNHrIEC0qn6A0esgQLiqfoDR6yBAuKp+gNHrIEA=",
          "dtype": "f8"
         }
        }
       ],
       "layout": {
        "template": {
         "data": {
          "bar": [
           {
            "error_x": {
             "color": "#2a3f5f"
            },
            "error_y": {
             "color": "#2a3f5f"
            },
            "marker": {
             "line": {
              "color": "white",
              "width": 0.5
             },
             "pattern": {
              "fillmode": "overlay",
              "size": 10,
              "solidity": 0.2
             }
            },
            "type": "bar"
           }
          ],
          "barpolar": [
           {
            "marker": {
             "line": {
              "color": "white",
              "width": 0.5
             },
             "pattern": {
              "fillmode": "overlay",
              "size": 10,
              "solidity": 0.2
             }
            },
            "type": "barpolar"
           }
          ],
          "carpet": [
           {
            "aaxis": {
             "endlinecolor": "#2a3f5f",
             "gridcolor": "#C8D4E3",
             "linecolor": "#C8D4E3",
             "minorgridcolor": "#C8D4E3",
             "startlinecolor": "#2a3f5f"
            },
            "baxis": {
             "endlinecolor": "#2a3f5f",
             "gridcolor": "#C8D4E3",
             "linecolor": "#C8D4E3",
             "minorgridcolor": "#C8D4E3",
             "startlinecolor": "#2a3f5f"
            },
            "type": "carpet"
           }
          ],
          "choropleth": [
           {
            "colorbar": {
             "outlinewidth": 0,
             "ticks": ""
            },
            "type": "choropleth"
           }
          ],
          "contour": [
           {
            "colorbar": {
             "outlinewidth": 0,
             "ticks": ""
            },
            "colorscale": [
             [
              0,
              "#0d0887"
             ],
             [
              0.1111111111111111,
              "#46039f"
             ],
             [
              0.2222222222222222,
              "#7201a8"
             ],
             [
              0.3333333333333333,
              "#9c179e"
             ],
             [
              0.4444444444444444,
              "#bd3786"
             ],
             [
              0.5555555555555556,
              "#d8576b"
             ],
             [
              0.6666666666666666,
              "#ed7953"
             ],
             [
              0.7777777777777778,
              "#fb9f3a"
             ],
             [
              0.8888888888888888,
              "#fdca26"
             ],
             [
              1,
              "#f0f921"
             ]
            ],
            "type": "contour"
           }
          ],
          "contourcarpet": [
           {
            "colorbar": {
             "outlinewidth": 0,
             "ticks": ""
            },
            "type": "contourcarpet"
           }
          ],
          "heatmap": [
           {
            "colorbar": {
             "outlinewidth": 0,
             "ticks": ""
            },
            "colorscale": [
             [
              0,
              "#0d0887"
             ],
             [
              0.1111111111111111,
              "#46039f"
             ],
             [
              0.2222222222222222,
              "#7201a8"
             ],
             [
              0.3333333333333333,
              "#9c179e"
             ],
             [
              0.4444444444444444,
              "#bd3786"
             ],
             [
              0.5555555555555556,
              "#d8576b"
             ],
             [
              0.6666666666666666,
              "#ed7953"
             ],
             [
              0.7777777777777778,
              "#fb9f3a"
             ],
             [
              0.8888888888888888,
              "#fdca26"
             ],
             [
              1,
              "#f0f921"
             ]
            ],
            "type": "heatmap"
           }
          ],
          "histogram": [
           {
            "marker": {
             "pattern": {
              "fillmode": "overlay",
              "size": 10,
              "solidity": 0.2
             }
            },
            "type": "histogram"
           }
          ],
          "histogram2d": [
           {
            "colorbar": {
             "outlinewidth": 0,
             "ticks": ""
            },
            "colorscale": [
             [
              0,
              "#0d0887"
             ],
             [
              0.1111111111111111,
              "#46039f"
             ],
             [
              0.2222222222222222,
              "#7201a8"
             ],
             [
              0.3333333333333333,
              "#9c179e"
             ],
             [
              0.4444444444444444,
              "#bd3786"
             ],
             [
              0.5555555555555556,
              "#d8576b"
             ],
             [
              0.6666666666666666,
              "#ed7953"
             ],
             [
              0.7777777777777778,
              "#fb9f3a"
             ],
             [
              0.8888888888888888,
              "#fdca26"
             ],
             [
              1,
              "#f0f921"
             ]
            ],
            "type": "histogram2d"
           }
          ],
          "histogram2dcontour": [
           {
            "colorbar": {
             "outlinewidth": 0,
             "ticks": ""
            },
            "colorscale": [
             [
              0,
              "#0d0887"
             ],
             [
              0.1111111111111111,
              "#46039f"
             ],
             [
              0.2222222222222222,
              "#7201a8"
             ],
             [
              0.3333333333333333,
              "#9c179e"
             ],
             [
              0.4444444444444444,
              "#bd3786"
             ],
             [
              0.5555555555555556,
              "#d8576b"
             ],
             [
              0.6666666666666666,
              "#ed7953"
             ],
             [
              0.7777777777777778,
              "#fb9f3a"
             ],
             [
              0.8888888888888888,
              "#fdca26"
             ],
             [
              1,
              "#f0f921"
             ]
            ],
            "type": "histogram2dcontour"
           }
          ],
          "mesh3d": [
           {
            "colorbar": {
             "outlinewidth": 0,
             "ticks": ""
            },
            "type": "mesh3d"
           }
          ],
          "parcoords": [
           {
            "line": {
             "colorbar": {
              "outlinewidth": 0,
              "ticks": ""
             }
            },
            "type": "parcoords"
           }
          ],
          "pie": [
           {
            "automargin": true,
            "type": "pie"
           }
          ],
          "scatter": [
           {
            "fillpattern": {
             "fillmode": "overlay",
             "size": 10,
             "solidity": 0.2
            },
            "type": "scatter"
           }
          ],
          "scatter3d": [
           {
            "line": {
             "colorbar": {
              "outlinewidth": 0,
              "ticks": ""
             }
            },
            "marker": {
             "colorbar": {
              "outlinewidth": 0,
              "ticks": ""
             }
            },
            "type": "scatter3d"
           }
          ],
          "scattercarpet": [
           {
            "marker": {
             "colorbar": {
              "outlinewidth": 0,
              "ticks": ""
             }
            },
            "type": "scattercarpet"
           }
          ],
          "scattergeo": [
           {
            "marker": {
             "colorbar": {
              "outlinewidth": 0,
              "ticks": ""
             }
            },
            "type": "scattergeo"
           }
          ],
          "scattergl": [
           {
            "marker": {
             "colorbar": {
              "outlinewidth": 0,
              "ticks": ""
             }
            },
            "type": "scattergl"
           }
          ],
          "scattermap": [
           {
            "marker": {
             "colorbar": {
              "outlinewidth": 0,
              "ticks": ""
             }
            },
            "type": "scattermap"
           }
          ],
          "scattermapbox": [
           {
            "marker": {
             "colorbar": {
              "outlinewidth": 0,
              "ticks": ""
             }
            },
            "type": "scattermapbox"
           }
          ],
          "scatterpolar": [
           {
            "marker": {
             "colorbar": {
              "outlinewidth": 0,
              "ticks": ""
             }
            },
            "type": "scatterpolar"
           }
          ],
          "scatterpolargl": [
           {
            "marker": {
             "colorbar": {
              "outlinewidth": 0,
              "ticks": ""
             }
            },
            "type": "scatterpolargl"
           }
          ],
          "scatterternary": [
           {
            "marker": {
             "colorbar": {
              "outlinewidth": 0,
              "ticks": ""
             }
            },
            "type": "scatterternary"
           }
          ],
          "surface": [
           {
            "colorbar": {
             "outlinewidth": 0,
             "ticks": ""
            },
            "colorscale": [
             [
              0,
              "#0d0887"
             ],
             [
              0.1111111111111111,
              "#46039f"
             ],
             [
              0.2222222222222222,
              "#7201a8"
             ],
             [
              0.3333333333333333,
              "#9c179e"
             ],
             [
              0.4444444444444444,
              "#bd3786"
             ],
             [
              0.5555555555555556,
              "#d8576b"
             ],
             [
              0.6666666666666666,
              "#ed7953"
             ],
             [
              0.7777777777777778,
              "#fb9f3a"
             ],
             [
              0.8888888888888888,
              "#fdca26"
             ],
             [
              1,
              "#f0f921"
             ]
            ],
            "type": "surface"
           }
          ],
          "table": [
           {
            "cells": {
             "fill": {
              "color": "#EBF0F8"
             },
             "line": {
              "color": "white"
             }
            },
            "header": {
             "fill": {
              "color": "#C8D4E3"
             },
             "line": {
              "color": "white"
             }
            },
            "type": "table"
           }
          ]
         },
         "layout": {
          "annotationdefaults": {
           "arrowcolor": "#2a3f5f",
           "arrowhead": 0,
           "arrowwidth": 1
          },
          "autotypenumbers": "strict",
          "coloraxis": {
           "colorbar": {
            "outlinewidth": 0,
            "ticks": ""
           }
          },
          "colorscale": {
           "diverging": [
            [
             0,
             "#8e0152"
            ],
            [
             0.1,
             "#c51b7d"
            ],
            [
             0.2,
             "#de77ae"
            ],
            [
             0.3,
             "#f1b6da"
            ],
            [
             0.4,
             "#fde0ef"
            ],
            [
             0.5,
             "#f7f7f7"
            ],
            [
             0.6,
             "#e6f5d0"
            ],
            [
             0.7,
             "#b8e186"
            ],
            [
             0.8,
             "#7fbc41"
            ],
            [
             0.9,
             "#4d9221"
            ],
            [
             1,
             "#276419"
            ]
           ],
           "sequential": [
            [
             0,
             "#0d0887"
            ],
            [
             0.1111111111111111,
             "#46039f"
            ],
            [
             0.2222222222222222,
             "#7201a8"
            ],
            [
             0.3333333333333333,
             "#9c179e"
            ],
            [
             0.4444444444444444,
             "#bd3786"
            ],
            [
             0.5555555555555556,
             "#d8576b"
            ],
            [
             0.6666666666666666,
             "#ed7953"
            ],
            [
             0.7777777777777778,
             "#fb9f3a"
            ],
            [
             0.8888888888888888,
             "#fdca26"
            ],
            [
             1,
             "#f0f921"
            ]
           ],
           "sequentialminus": [
            [
             0,
             "#0d0887"
            ],
            [
             0.1111111111111111,
             "#46039f"
            ],
            [
             0.2222222222222222,
             "#7201a8"
            ],
            [
             0.3333333333333333,
             "#9c179e"
            ],
            [
             0.4444444444444444,
             "#bd3786"
            ],
            [
             0.5555555555555556,
             "#d8576b"
            ],
            [
             0.6666666666666666,
             "#ed7953"
            ],
            [
             0.7777777777777778,
             "#fb9f3a"
            ],
            [
             0.8888888888888888,
             "#fdca26"
            ],
            [
             1,
             "#f0f921"
            ]
           ]
          },
          "colorway": [
           "#636efa",
           "#EF553B",
           "#00cc96",
           "#ab63fa",
           "#FFA15A",
           "#19d3f3",
           "#FF6692",
           "#B6E880",
           "#FF97FF",
           "#FECB52"
          ],
          "font": {
           "color": "#2a3f5f"
          },
          "geo": {
           "bgcolor": "white",
           "lakecolor": "white",
           "landcolor": "white",
           "showlakes": true,
           "showland": true,
           "subunitcolor": "#C8D4E3"
          },
          "hoverlabel": {
           "align": "left"
          },
          "hovermode": "closest",
          "mapbox": {
           "style": "light"
          },
          "paper_bgcolor": "white",
          "plot_bgcolor": "white",
          "polar": {
           "angularaxis": {
            "gridcolor": "#EBF0F8",
            "linecolor": "#EBF0F8",
            "ticks": ""
           },
           "bgcolor": "white",
           "radialaxis": {
            "gridcolor": "#EBF0F8",
            "linecolor": "#EBF0F8",
            "ticks": ""
           }
          },
          "scene": {
           "xaxis": {
            "backgroundcolor": "white",
            "gridcolor": "#DFE8F3",
            "gridwidth": 2,
            "linecolor": "#EBF0F8",
            "showbackground": true,
            "ticks": "",
            "zerolinecolor": "#EBF0F8"
           },
           "yaxis": {
            "backgroundcolor": "white",
            "gridcolor": "#DFE8F3",
            "gridwidth": 2,
            "linecolor": "#EBF0F8",
            "showbackground": true,
            "ticks": "",
            "zerolinecolor": "#EBF0F8"
           },
           "zaxis": {
            "backgroundcolor": "white",
            "gridcolor": "#DFE8F3",
            "gridwidth": 2,
            "linecolor": "#EBF0F8",
            "showbackground": true,
            "ticks": "",
            "zerolinecolor": "#EBF0F8"
           }
          },
          "shapedefaults": {
           "line": {
            "color": "#2a3f5f"
           }
          },
          "ternary": {
           "aaxis": {
            "gridcolor": "#DFE8F3",
            "linecolor": "#A2B1C6",
            "ticks": ""
           },
           "baxis": {
            "gridcolor": "#DFE8F3",
            "linecolor": "#A2B1C6",
            "ticks": ""
           },
           "bgcolor": "white",
           "caxis": {
            "gridcolor": "#DFE8F3",
            "linecolor": "#A2B1C6",
            "ticks": ""
           }
          },
          "title": {
           "x": 0.05
          },
          "xaxis": {
           "automargin": true,
           "gridcolor": "#EBF0F8",
           "linecolor": "#EBF0F8",
           "ticks": "",
           "title": {
            "standoff": 15
           },
           "zerolinecolor": "#EBF0F8",
           "zerolinewidth": 2
          },
          "yaxis": {
           "automargin": true,
           "gridcolor": "#EBF0F8",
           "linecolor": "#EBF0F8",
           "ticks": "",
           "title": {
            "standoff": 15
           },
           "zerolinecolor": "#EBF0F8",
           "zerolinewidth": 2
          }
         }
        },
        "title": {
         "text": "Projeção da Média Mensal de Fabricação (Ton) até Julho/2027 - IC 80%"
        },
        "xaxis": {
         "title": {
          "text": "Data"
         }
        },
        "yaxis": {
         "title": {
          "text": "Peso Total (Ton)"
         }
        }
       }
      }
     },
     "metadata": {},
     "output_type": "display_data"
    }
   ],
   "source": [
    "#plotando media mensal\n",
    "fig_media = go.Figure()\n",
    "\n",
    "# Série real\n",
    "fig_media.add_trace(go.Scatter(\n",
    "    x=serie_total.index,\n",
    "    y=serie_total.values,\n",
    "    mode='lines+markers',\n",
    "    name='Histórico Real',\n",
    "    line=dict(color='black', width=2)\n",
    "))\n",
    "\n",
    "# Previsões\n",
    "fig_media.add_trace(go.Scatter(\n",
    "    x=datas_futuras,\n",
    "    y=previsao_soma_realista,\n",
    "    mode='lines',\n",
    "    name='Cenário Realista',\n",
    "    line=dict(color='blue')\n",
    "))\n",
    "fig_media.add_trace(go.Scatter(\n",
    "    x=datas_futuras,\n",
    "    y=soma_otimista,\n",
    "    mode='lines',\n",
    "    name='Cenário Otimista',\n",
    "    line=dict(color='green', dash='dash')\n",
    "))\n",
    "fig_media.add_trace(go.Scatter(\n",
    "    x=datas_futuras,\n",
    "    y=soma_pessimista,\n",
    "    mode='lines',\n",
    "    name='Cenário Pessimista',\n",
    "    line=dict(color='red', dash='dash')\n",
    "))\n",
    "\n",
    "fig_media.update_layout(\n",
    "    title='Projeção da Média Mensal de Fabricação (Ton) até Julho/2027 - IC 80%',\n",
    "    xaxis_title='Data',\n",
    "    yaxis_title='Peso Total (Ton)',\n",
    "    template='plotly_white'\n",
    ")\n",
    "\n",
    "fig_media.show()"
   ]
  },
  {
   "cell_type": "code",
   "execution_count": 279,
   "metadata": {},
   "outputs": [
    {
     "data": {
      "application/vnd.plotly.v1+json": {
       "config": {
        "plotlyServerURL": "https://plot.ly"
       },
       "data": [
        {
         "line": {
          "color": "black",
          "width": 2
         },
         "mode": "lines+markers",
         "name": "Acumulado Real",
         "type": "scatter",
         "x": [
          "2023-06-30T00:00:00.000000000",
          "2023-07-31T00:00:00.000000000",
          "2023-08-31T00:00:00.000000000",
          "2023-09-30T00:00:00.000000000",
          "2023-10-31T00:00:00.000000000",
          "2023-11-30T00:00:00.000000000",
          "2023-12-31T00:00:00.000000000",
          "2024-01-31T00:00:00.000000000",
          "2024-02-29T00:00:00.000000000",
          "2024-03-31T00:00:00.000000000",
          "2024-04-30T00:00:00.000000000",
          "2024-05-31T00:00:00.000000000",
          "2024-06-30T00:00:00.000000000",
          "2024-07-31T00:00:00.000000000",
          "2024-08-31T00:00:00.000000000",
          "2024-09-30T00:00:00.000000000",
          "2024-10-31T00:00:00.000000000",
          "2024-11-30T00:00:00.000000000",
          "2024-12-31T00:00:00.000000000",
          "2025-01-31T00:00:00.000000000",
          "2025-02-28T00:00:00.000000000",
          "2025-03-31T00:00:00.000000000",
          "2025-04-30T00:00:00.000000000"
         ],
         "y": {
          "bdata": "WMnH7gJrQ0Ao1NNH4M1NQPKaV3VWVFFADFuzlZcrVEB25EhnYPlYQBTx1vm3VlxAZRu4A/WpYEBdUN8yp2NjQG7fo/76M2VABcO5hploaEAYlGk0OZRpQHr7c9EQ0mxALQjlfZzQb0BUVP1Kp9FwQGYWodhK8XFAfgIoRlbZckC6ha5EYCh0QByz7Ekgm3VAVMiVetZ1dkAh6GhVy554QEUtza0Qq3lAsmX5ukxYekAAAtaqHXF6QA==",
          "dtype": "f8"
         }
        },
        {
         "line": {
          "color": "blue"
         },
         "mode": "lines",
         "name": "Acumulado Realista",
         "type": "scatter",
         "x": [
          "2025-05-31T00:00:00.000000000",
          "2025-06-30T00:00:00.000000000",
          "2025-07-31T00:00:00.000000000",
          "2025-08-31T00:00:00.000000000",
          "2025-09-30T00:00:00.000000000",
          "2025-10-31T00:00:00.000000000",
          "2025-11-30T00:00:00.000000000",
          "2025-12-31T00:00:00.000000000",
          "2026-01-31T00:00:00.000000000",
          "2026-02-28T00:00:00.000000000",
          "2026-03-31T00:00:00.000000000",
          "2026-04-30T00:00:00.000000000",
          "2026-05-31T00:00:00.000000000",
          "2026-06-30T00:00:00.000000000",
          "2026-07-31T00:00:00.000000000",
          "2026-08-31T00:00:00.000000000",
          "2026-09-30T00:00:00.000000000",
          "2026-10-31T00:00:00.000000000",
          "2026-11-30T00:00:00.000000000",
          "2026-12-31T00:00:00.000000000",
          "2027-01-31T00:00:00.000000000",
          "2027-02-28T00:00:00.000000000",
          "2027-03-31T00:00:00.000000000",
          "2027-04-30T00:00:00.000000000",
          "2027-05-31T00:00:00.000000000",
          "2027-06-30T00:00:00.000000000",
          "2027-07-31T00:00:00.000000000",
          "2027-08-31T00:00:00.000000000"
         ],
         "y": {
          "bdata": "AM8a2kr3e0A6vxPLLGp9QLIBz9nYvX5A2Pm1rondf0AzM1R5pISAQKjVlC0eGYFA4IAg5uqtgUAgfXxdpEKCQPHMGkxi14JAiDOPMR9sg0Ax6INU3ACEQFDuNGmZlYRA7Ok0gVYqhUCsdHCYE7+FQEKP2a/QU4ZAkhg4x43ohkBWFZneSn2HQJKA+fUHEohAkA1aDcWmiEC5krokgjuJQLMZGzw/0IlAQaB7U/xkikDoJtxqufmKQIqtPIJ2jotALDSdmTMjjEDOuv2w8LeMQHFBXsitTI1AE8i+32rhjUA=",
          "dtype": "f8"
         }
        },
        {
         "line": {
          "color": "green",
          "dash": "dash"
         },
         "mode": "lines",
         "name": "Acumulado Otimista",
         "type": "scatter",
         "x": [
          "2025-05-31T00:00:00.000000000",
          "2025-06-30T00:00:00.000000000",
          "2025-07-31T00:00:00.000000000",
          "2025-08-31T00:00:00.000000000",
          "2025-09-30T00:00:00.000000000",
          "2025-10-31T00:00:00.000000000",
          "2025-11-30T00:00:00.000000000",
          "2025-12-31T00:00:00.000000000",
          "2026-01-31T00:00:00.000000000",
          "2026-02-28T00:00:00.000000000",
          "2026-03-31T00:00:00.000000000",
          "2026-04-30T00:00:00.000000000",
          "2026-05-31T00:00:00.000000000",
          "2026-06-30T00:00:00.000000000",
          "2026-07-31T00:00:00.000000000",
          "2026-08-31T00:00:00.000000000",
          "2026-09-30T00:00:00.000000000",
          "2026-10-31T00:00:00.000000000",
          "2026-11-30T00:00:00.000000000",
          "2026-12-31T00:00:00.000000000",
          "2027-01-31T00:00:00.000000000",
          "2027-02-28T00:00:00.000000000",
          "2027-03-31T00:00:00.000000000",
          "2027-04-30T00:00:00.000000000",
          "2027-05-31T00:00:00.000000000",
          "2027-06-30T00:00:00.000000000",
          "2027-07-31T00:00:00.000000000",
          "2027-08-31T00:00:00.000000000"
         ],
         "y": {
          "bdata": "lGBKYVaDfECE73iDQ45+QNi5Bb6CQIBAZAlBWVQhgUB4xqmwQAiCQHniAifI7YJAesIasKLTg0AC+sn4abmEQPY5xrg1n4VAIySZbwCFhkBQZOxjy2qHQGD2+0mWUIhA8n1aM2E2iUCrlPQbLByKQDg7vAT3AYtAgFB57cHni0A82TjWjM2MQG/Q975Xs41AZOm2pyKZjkCF+nWQ7X6PQLuGmjxcMpBA/g/6sEGlkEBOmVklJxiRQJoiuZkMi5FA56sYDvL9kUA0NXiC13CSQIG+1/a845JAzkc3a6JWk0A=",
          "dtype": "f8"
         }
        },
        {
         "line": {
          "color": "red",
          "dash": "dash"
         },
         "mode": "lines",
         "name": "Acumulado Pessimista",
         "type": "scatter",
         "x": [
          "2025-05-31T00:00:00.000000000",
          "2025-06-30T00:00:00.000000000",
          "2025-07-31T00:00:00.000000000",
          "2025-08-31T00:00:00.000000000",
          "2025-09-30T00:00:00.000000000",
          "2025-10-31T00:00:00.000000000",
          "2025-11-30T00:00:00.000000000",
          "2025-12-31T00:00:00.000000000",
          "2026-01-31T00:00:00.000000000",
          "2026-02-28T00:00:00.000000000",
          "2026-03-31T00:00:00.000000000",
          "2026-04-30T00:00:00.000000000",
          "2026-05-31T00:00:00.000000000",
          "2026-06-30T00:00:00.000000000",
          "2026-07-31T00:00:00.000000000",
          "2026-08-31T00:00:00.000000000",
          "2026-09-30T00:00:00.000000000",
          "2026-10-31T00:00:00.000000000",
          "2026-11-30T00:00:00.000000000",
          "2026-12-31T00:00:00.000000000",
          "2027-01-31T00:00:00.000000000",
          "2027-02-28T00:00:00.000000000",
          "2027-03-31T00:00:00.000000000",
          "2027-04-30T00:00:00.000000000",
          "2027-05-31T00:00:00.000000000",
          "2027-06-30T00:00:00.000000000",
          "2027-07-31T00:00:00.000000000",
          "2027-08-31T00:00:00.000000000"
         ],
         "y": {
          "bdata": "bT3rUj9re0Dwjq4SFkZ8QLSPkjes+nxA5+Dpqmp4fUDcP/2DEAJ+QKyRTWjoiH5Ai35MOGYQf0B+AF6EvZd/QOtfb9+OD4BA7UKF8z1TgEARbBtF7ZaAQD7mbYic2oBA41UPz0segUCsVOwU+2GBQErj9lqqpYFAo+D2oFnpgUBvUfnmCC2CQLQw+yy4cIJAujH9cme0gkDrKv+4FviCQO4lAf/FO4NAhCADRXV/g0A0GwWLJMODQN0VB9HTBoRAiBAJF4NKhEAzCwtdMo6EQN4FDaPh0YRAiQAP6ZAVhUA=",
          "dtype": "f8"
         }
        }
       ],
       "layout": {
        "template": {
         "data": {
          "bar": [
           {
            "error_x": {
             "color": "#2a3f5f"
            },
            "error_y": {
             "color": "#2a3f5f"
            },
            "marker": {
             "line": {
              "color": "white",
              "width": 0.5
             },
             "pattern": {
              "fillmode": "overlay",
              "size": 10,
              "solidity": 0.2
             }
            },
            "type": "bar"
           }
          ],
          "barpolar": [
           {
            "marker": {
             "line": {
              "color": "white",
              "width": 0.5
             },
             "pattern": {
              "fillmode": "overlay",
              "size": 10,
              "solidity": 0.2
             }
            },
            "type": "barpolar"
           }
          ],
          "carpet": [
           {
            "aaxis": {
             "endlinecolor": "#2a3f5f",
             "gridcolor": "#C8D4E3",
             "linecolor": "#C8D4E3",
             "minorgridcolor": "#C8D4E3",
             "startlinecolor": "#2a3f5f"
            },
            "baxis": {
             "endlinecolor": "#2a3f5f",
             "gridcolor": "#C8D4E3",
             "linecolor": "#C8D4E3",
             "minorgridcolor": "#C8D4E3",
             "startlinecolor": "#2a3f5f"
            },
            "type": "carpet"
           }
          ],
          "choropleth": [
           {
            "colorbar": {
             "outlinewidth": 0,
             "ticks": ""
            },
            "type": "choropleth"
           }
          ],
          "contour": [
           {
            "colorbar": {
             "outlinewidth": 0,
             "ticks": ""
            },
            "colorscale": [
             [
              0,
              "#0d0887"
             ],
             [
              0.1111111111111111,
              "#46039f"
             ],
             [
              0.2222222222222222,
              "#7201a8"
             ],
             [
              0.3333333333333333,
              "#9c179e"
             ],
             [
              0.4444444444444444,
              "#bd3786"
             ],
             [
              0.5555555555555556,
              "#d8576b"
             ],
             [
              0.6666666666666666,
              "#ed7953"
             ],
             [
              0.7777777777777778,
              "#fb9f3a"
             ],
             [
              0.8888888888888888,
              "#fdca26"
             ],
             [
              1,
              "#f0f921"
             ]
            ],
            "type": "contour"
           }
          ],
          "contourcarpet": [
           {
            "colorbar": {
             "outlinewidth": 0,
             "ticks": ""
            },
            "type": "contourcarpet"
           }
          ],
          "heatmap": [
           {
            "colorbar": {
             "outlinewidth": 0,
             "ticks": ""
            },
            "colorscale": [
             [
              0,
              "#0d0887"
             ],
             [
              0.1111111111111111,
              "#46039f"
             ],
             [
              0.2222222222222222,
              "#7201a8"
             ],
             [
              0.3333333333333333,
              "#9c179e"
             ],
             [
              0.4444444444444444,
              "#bd3786"
             ],
             [
              0.5555555555555556,
              "#d8576b"
             ],
             [
              0.6666666666666666,
              "#ed7953"
             ],
             [
              0.7777777777777778,
              "#fb9f3a"
             ],
             [
              0.8888888888888888,
              "#fdca26"
             ],
             [
              1,
              "#f0f921"
             ]
            ],
            "type": "heatmap"
           }
          ],
          "histogram": [
           {
            "marker": {
             "pattern": {
              "fillmode": "overlay",
              "size": 10,
              "solidity": 0.2
             }
            },
            "type": "histogram"
           }
          ],
          "histogram2d": [
           {
            "colorbar": {
             "outlinewidth": 0,
             "ticks": ""
            },
            "colorscale": [
             [
              0,
              "#0d0887"
             ],
             [
              0.1111111111111111,
              "#46039f"
             ],
             [
              0.2222222222222222,
              "#7201a8"
             ],
             [
              0.3333333333333333,
              "#9c179e"
             ],
             [
              0.4444444444444444,
              "#bd3786"
             ],
             [
              0.5555555555555556,
              "#d8576b"
             ],
             [
              0.6666666666666666,
              "#ed7953"
             ],
             [
              0.7777777777777778,
              "#fb9f3a"
             ],
             [
              0.8888888888888888,
              "#fdca26"
             ],
             [
              1,
              "#f0f921"
             ]
            ],
            "type": "histogram2d"
           }
          ],
          "histogram2dcontour": [
           {
            "colorbar": {
             "outlinewidth": 0,
             "ticks": ""
            },
            "colorscale": [
             [
              0,
              "#0d0887"
             ],
             [
              0.1111111111111111,
              "#46039f"
             ],
             [
              0.2222222222222222,
              "#7201a8"
             ],
             [
              0.3333333333333333,
              "#9c179e"
             ],
             [
              0.4444444444444444,
              "#bd3786"
             ],
             [
              0.5555555555555556,
              "#d8576b"
             ],
             [
              0.6666666666666666,
              "#ed7953"
             ],
             [
              0.7777777777777778,
              "#fb9f3a"
             ],
             [
              0.8888888888888888,
              "#fdca26"
             ],
             [
              1,
              "#f0f921"
             ]
            ],
            "type": "histogram2dcontour"
           }
          ],
          "mesh3d": [
           {
            "colorbar": {
             "outlinewidth": 0,
             "ticks": ""
            },
            "type": "mesh3d"
           }
          ],
          "parcoords": [
           {
            "line": {
             "colorbar": {
              "outlinewidth": 0,
              "ticks": ""
             }
            },
            "type": "parcoords"
           }
          ],
          "pie": [
           {
            "automargin": true,
            "type": "pie"
           }
          ],
          "scatter": [
           {
            "fillpattern": {
             "fillmode": "overlay",
             "size": 10,
             "solidity": 0.2
            },
            "type": "scatter"
           }
          ],
          "scatter3d": [
           {
            "line": {
             "colorbar": {
              "outlinewidth": 0,
              "ticks": ""
             }
            },
            "marker": {
             "colorbar": {
              "outlinewidth": 0,
              "ticks": ""
             }
            },
            "type": "scatter3d"
           }
          ],
          "scattercarpet": [
           {
            "marker": {
             "colorbar": {
              "outlinewidth": 0,
              "ticks": ""
             }
            },
            "type": "scattercarpet"
           }
          ],
          "scattergeo": [
           {
            "marker": {
             "colorbar": {
              "outlinewidth": 0,
              "ticks": ""
             }
            },
            "type": "scattergeo"
           }
          ],
          "scattergl": [
           {
            "marker": {
             "colorbar": {
              "outlinewidth": 0,
              "ticks": ""
             }
            },
            "type": "scattergl"
           }
          ],
          "scattermap": [
           {
            "marker": {
             "colorbar": {
              "outlinewidth": 0,
              "ticks": ""
             }
            },
            "type": "scattermap"
           }
          ],
          "scattermapbox": [
           {
            "marker": {
             "colorbar": {
              "outlinewidth": 0,
              "ticks": ""
             }
            },
            "type": "scattermapbox"
           }
          ],
          "scatterpolar": [
           {
            "marker": {
             "colorbar": {
              "outlinewidth": 0,
              "ticks": ""
             }
            },
            "type": "scatterpolar"
           }
          ],
          "scatterpolargl": [
           {
            "marker": {
             "colorbar": {
              "outlinewidth": 0,
              "ticks": ""
             }
            },
            "type": "scatterpolargl"
           }
          ],
          "scatterternary": [
           {
            "marker": {
             "colorbar": {
              "outlinewidth": 0,
              "ticks": ""
             }
            },
            "type": "scatterternary"
           }
          ],
          "surface": [
           {
            "colorbar": {
             "outlinewidth": 0,
             "ticks": ""
            },
            "colorscale": [
             [
              0,
              "#0d0887"
             ],
             [
              0.1111111111111111,
              "#46039f"
             ],
             [
              0.2222222222222222,
              "#7201a8"
             ],
             [
              0.3333333333333333,
              "#9c179e"
             ],
             [
              0.4444444444444444,
              "#bd3786"
             ],
             [
              0.5555555555555556,
              "#d8576b"
             ],
             [
              0.6666666666666666,
              "#ed7953"
             ],
             [
              0.7777777777777778,
              "#fb9f3a"
             ],
             [
              0.8888888888888888,
              "#fdca26"
             ],
             [
              1,
              "#f0f921"
             ]
            ],
            "type": "surface"
           }
          ],
          "table": [
           {
            "cells": {
             "fill": {
              "color": "#EBF0F8"
             },
             "line": {
              "color": "white"
             }
            },
            "header": {
             "fill": {
              "color": "#C8D4E3"
             },
             "line": {
              "color": "white"
             }
            },
            "type": "table"
           }
          ]
         },
         "layout": {
          "annotationdefaults": {
           "arrowcolor": "#2a3f5f",
           "arrowhead": 0,
           "arrowwidth": 1
          },
          "autotypenumbers": "strict",
          "coloraxis": {
           "colorbar": {
            "outlinewidth": 0,
            "ticks": ""
           }
          },
          "colorscale": {
           "diverging": [
            [
             0,
             "#8e0152"
            ],
            [
             0.1,
             "#c51b7d"
            ],
            [
             0.2,
             "#de77ae"
            ],
            [
             0.3,
             "#f1b6da"
            ],
            [
             0.4,
             "#fde0ef"
            ],
            [
             0.5,
             "#f7f7f7"
            ],
            [
             0.6,
             "#e6f5d0"
            ],
            [
             0.7,
             "#b8e186"
            ],
            [
             0.8,
             "#7fbc41"
            ],
            [
             0.9,
             "#4d9221"
            ],
            [
             1,
             "#276419"
            ]
           ],
           "sequential": [
            [
             0,
             "#0d0887"
            ],
            [
             0.1111111111111111,
             "#46039f"
            ],
            [
             0.2222222222222222,
             "#7201a8"
            ],
            [
             0.3333333333333333,
             "#9c179e"
            ],
            [
             0.4444444444444444,
             "#bd3786"
            ],
            [
             0.5555555555555556,
             "#d8576b"
            ],
            [
             0.6666666666666666,
             "#ed7953"
            ],
            [
             0.7777777777777778,
             "#fb9f3a"
            ],
            [
             0.8888888888888888,
             "#fdca26"
            ],
            [
             1,
             "#f0f921"
            ]
           ],
           "sequentialminus": [
            [
             0,
             "#0d0887"
            ],
            [
             0.1111111111111111,
             "#46039f"
            ],
            [
             0.2222222222222222,
             "#7201a8"
            ],
            [
             0.3333333333333333,
             "#9c179e"
            ],
            [
             0.4444444444444444,
             "#bd3786"
            ],
            [
             0.5555555555555556,
             "#d8576b"
            ],
            [
             0.6666666666666666,
             "#ed7953"
            ],
            [
             0.7777777777777778,
             "#fb9f3a"
            ],
            [
             0.8888888888888888,
             "#fdca26"
            ],
            [
             1,
             "#f0f921"
            ]
           ]
          },
          "colorway": [
           "#636efa",
           "#EF553B",
           "#00cc96",
           "#ab63fa",
           "#FFA15A",
           "#19d3f3",
           "#FF6692",
           "#B6E880",
           "#FF97FF",
           "#FECB52"
          ],
          "font": {
           "color": "#2a3f5f"
          },
          "geo": {
           "bgcolor": "white",
           "lakecolor": "white",
           "landcolor": "white",
           "showlakes": true,
           "showland": true,
           "subunitcolor": "#C8D4E3"
          },
          "hoverlabel": {
           "align": "left"
          },
          "hovermode": "closest",
          "mapbox": {
           "style": "light"
          },
          "paper_bgcolor": "white",
          "plot_bgcolor": "white",
          "polar": {
           "angularaxis": {
            "gridcolor": "#EBF0F8",
            "linecolor": "#EBF0F8",
            "ticks": ""
           },
           "bgcolor": "white",
           "radialaxis": {
            "gridcolor": "#EBF0F8",
            "linecolor": "#EBF0F8",
            "ticks": ""
           }
          },
          "scene": {
           "xaxis": {
            "backgroundcolor": "white",
            "gridcolor": "#DFE8F3",
            "gridwidth": 2,
            "linecolor": "#EBF0F8",
            "showbackground": true,
            "ticks": "",
            "zerolinecolor": "#EBF0F8"
           },
           "yaxis": {
            "backgroundcolor": "white",
            "gridcolor": "#DFE8F3",
            "gridwidth": 2,
            "linecolor": "#EBF0F8",
            "showbackground": true,
            "ticks": "",
            "zerolinecolor": "#EBF0F8"
           },
           "zaxis": {
            "backgroundcolor": "white",
            "gridcolor": "#DFE8F3",
            "gridwidth": 2,
            "linecolor": "#EBF0F8",
            "showbackground": true,
            "ticks": "",
            "zerolinecolor": "#EBF0F8"
           }
          },
          "shapedefaults": {
           "line": {
            "color": "#2a3f5f"
           }
          },
          "ternary": {
           "aaxis": {
            "gridcolor": "#DFE8F3",
            "linecolor": "#A2B1C6",
            "ticks": ""
           },
           "baxis": {
            "gridcolor": "#DFE8F3",
            "linecolor": "#A2B1C6",
            "ticks": ""
           },
           "bgcolor": "white",
           "caxis": {
            "gridcolor": "#DFE8F3",
            "linecolor": "#A2B1C6",
            "ticks": ""
           }
          },
          "title": {
           "x": 0.05
          },
          "xaxis": {
           "automargin": true,
           "gridcolor": "#EBF0F8",
           "linecolor": "#EBF0F8",
           "ticks": "",
           "title": {
            "standoff": 15
           },
           "zerolinecolor": "#EBF0F8",
           "zerolinewidth": 2
          },
          "yaxis": {
           "automargin": true,
           "gridcolor": "#EBF0F8",
           "linecolor": "#EBF0F8",
           "ticks": "",
           "title": {
            "standoff": 15
           },
           "zerolinecolor": "#EBF0F8",
           "zerolinewidth": 2
          }
         }
        },
        "title": {
         "text": "Projeção Acumulada de Fabricação (Ton) até Julho/2027 - IC 80%"
        },
        "xaxis": {
         "title": {
          "text": "Data"
         }
        },
        "yaxis": {
         "title": {
          "text": "Acumulado de Peso Total (Ton)"
         }
        }
       }
      }
     },
     "metadata": {},
     "output_type": "display_data"
    }
   ],
   "source": [
    "#plotando acumulado\n",
    "fig_acumulado = go.Figure()\n",
    "\n",
    "# Acumulado real\n",
    "fig_acumulado.add_trace(go.Scatter(\n",
    "    x=soma_mensal.index,\n",
    "    y=soma_mensal.cumsum(),\n",
    "    mode='lines+markers',\n",
    "    name='Acumulado Real',\n",
    "    line=dict(color='black', width=2)\n",
    "))\n",
    "\n",
    "# Previsões acumuladas\n",
    "fig_acumulado.add_trace(go.Scatter(\n",
    "    x=datas_futuras,\n",
    "    y=acumulado_realista,\n",
    "    mode='lines',\n",
    "    name='Acumulado Realista',\n",
    "    line=dict(color='blue')\n",
    "))\n",
    "fig_acumulado.add_trace(go.Scatter(\n",
    "    x=datas_futuras,\n",
    "    y=acumulado_otimista,\n",
    "    mode='lines',\n",
    "    name='Acumulado Otimista',\n",
    "    line=dict(color='green', dash='dash')\n",
    "))\n",
    "fig_acumulado.add_trace(go.Scatter(\n",
    "    x=datas_futuras,\n",
    "    y=acumulado_pessimista,\n",
    "    mode='lines',\n",
    "    name='Acumulado Pessimista',\n",
    "    line=dict(color='red', dash='dash')\n",
    "))\n",
    "\n",
    "fig_acumulado.update_layout(\n",
    "    title='Projeção Acumulada de Fabricação (Ton) até Julho/2027 - IC 80%',\n",
    "    xaxis_title='Data',\n",
    "    yaxis_title='Acumulado de Peso Total (Ton)',\n",
    "    template='plotly_white'\n",
    ")\n",
    "\n",
    "fig_acumulado.show()"
   ]
  },
  {
   "cell_type": "code",
   "execution_count": 280,
   "metadata": {},
   "outputs": [
    {
     "data": {
      "application/vnd.plotly.v1+json": {
       "config": {
        "plotlyServerURL": "https://plot.ly"
       },
       "data": [
        {
         "line": {
          "color": "black",
          "width": 2
         },
         "mode": "lines+markers",
         "name": "Histórico Real (Média Mensal)",
         "type": "scatter",
         "x": [
          "2023-06-30T00:00:00.000000000",
          "2023-07-31T00:00:00.000000000",
          "2023-08-31T00:00:00.000000000",
          "2023-09-30T00:00:00.000000000",
          "2023-10-31T00:00:00.000000000",
          "2023-11-30T00:00:00.000000000",
          "2023-12-31T00:00:00.000000000",
          "2024-01-31T00:00:00.000000000",
          "2024-02-29T00:00:00.000000000",
          "2024-03-31T00:00:00.000000000",
          "2024-04-30T00:00:00.000000000",
          "2024-05-31T00:00:00.000000000",
          "2024-06-30T00:00:00.000000000",
          "2024-07-31T00:00:00.000000000",
          "2024-08-31T00:00:00.000000000",
          "2024-09-30T00:00:00.000000000",
          "2024-10-31T00:00:00.000000000",
          "2024-11-30T00:00:00.000000000",
          "2024-12-31T00:00:00.000000000",
          "2025-01-31T00:00:00.000000000",
          "2025-02-28T00:00:00.000000000",
          "2025-03-31T00:00:00.000000000",
          "2025-04-30T00:00:00.000000000"
         ],
         "xaxis": "x",
         "y": {
          "bdata": "WMnH7gJrQ0CgFRiyusU0QOyGbYsyayNA0gDeAgm6JkCmJVZGIzczQO1kcJS86ipA2xZlNsj0M0DCpzl5kc01QAvxSLw8BS1AuByvQPSkOUA4Ef3a+rkiQBE7U+i87jlAlWWIY130N0CzB1qBISstQBghPNo4+jFA/YLdsG0BLUDHM2jon/A0QCPW4lMALDdA9KYiFcZWK0Bp/pjWpkdBQD9SRIZVxDBApg2HpYGnJUCpTZzc79D4Pw==",
          "dtype": "f8"
         },
         "yaxis": "y"
        },
        {
         "line": {
          "color": "blue"
         },
         "mode": "lines",
         "name": "Cenário Realista (Média Mensal)",
         "type": "scatter",
         "x": [
          "2025-05-31T00:00:00.000000000",
          "2025-06-30T00:00:00.000000000",
          "2025-07-31T00:00:00.000000000",
          "2025-08-31T00:00:00.000000000",
          "2025-09-30T00:00:00.000000000",
          "2025-10-31T00:00:00.000000000",
          "2025-11-30T00:00:00.000000000",
          "2025-12-31T00:00:00.000000000",
          "2026-01-31T00:00:00.000000000",
          "2026-02-28T00:00:00.000000000",
          "2026-03-31T00:00:00.000000000",
          "2026-04-30T00:00:00.000000000",
          "2026-05-31T00:00:00.000000000",
          "2026-06-30T00:00:00.000000000",
          "2026-07-31T00:00:00.000000000",
          "2026-08-31T00:00:00.000000000",
          "2026-09-30T00:00:00.000000000",
          "2026-10-31T00:00:00.000000000",
          "2026-11-30T00:00:00.000000000",
          "2026-12-31T00:00:00.000000000",
          "2027-01-31T00:00:00.000000000",
          "2027-02-28T00:00:00.000000000",
          "2027-03-31T00:00:00.000000000",
          "2027-04-30T00:00:00.000000000",
          "2027-05-31T00:00:00.000000000",
          "2027-06-30T00:00:00.000000000",
          "2027-07-31T00:00:00.000000000",
          "2027-08-31T00:00:00.000000000"
         ],
         "xaxis": "x",
         "y": {
          "bdata": "CNBM9NJiOECYA48PHy43QH8ntOvAOjVAXIJvTg37MUDiyCY/9LsyQJVOFIg2jzJADGd1EZeZMkAQiH/rLpcyQAz6ydO9lzJA79KMrpyXMkAJlZZepJcyQNXDIJailzJAf3P//6KXMkAbWHHnopcyQKxSI+2ilzJACCrR66KXMkB5mB/sopcyQIxnDeyilzJAqJ8R7KKXMkAkpRDsopcyQD7fEOyilzJAxNEQ7KKXMkDl1BDsopcyQCvUEOyilzJAVtQQ7KKXMkBM1BDsopcyQE7UEOyilzJATtQQ7KKXMkA=",
          "dtype": "f8"
         },
         "yaxis": "y"
        },
        {
         "line": {
          "color": "green",
          "dash": "dash"
         },
         "mode": "lines",
         "name": "Cenário Otimista (Média Mensal)",
         "type": "scatter",
         "x": [
          "2025-05-31T00:00:00.000000000",
          "2025-06-30T00:00:00.000000000",
          "2025-07-31T00:00:00.000000000",
          "2025-08-31T00:00:00.000000000",
          "2025-09-30T00:00:00.000000000",
          "2025-10-31T00:00:00.000000000",
          "2025-11-30T00:00:00.000000000",
          "2025-12-31T00:00:00.000000000",
          "2026-01-31T00:00:00.000000000",
          "2026-02-28T00:00:00.000000000",
          "2026-03-31T00:00:00.000000000",
          "2026-04-30T00:00:00.000000000",
          "2026-05-31T00:00:00.000000000",
          "2026-06-30T00:00:00.000000000",
          "2026-07-31T00:00:00.000000000",
          "2026-08-31T00:00:00.000000000",
          "2026-09-30T00:00:00.000000000",
          "2026-10-31T00:00:00.000000000",
          "2026-11-30T00:00:00.000000000",
          "2026-12-31T00:00:00.000000000",
          "2027-01-31T00:00:00.000000000",
          "2027-02-28T00:00:00.000000000",
          "2027-03-31T00:00:00.000000000",
          "2027-04-30T00:00:00.000000000",
          "2027-05-31T00:00:00.000000000",
          "2027-06-30T00:00:00.000000000",
          "2027-07-31T00:00:00.000000000",
          "2027-08-31T00:00:00.000000000"
         ],
         "xaxis": "x",
         "y": {
          "bdata": "ovSis8WRQECCd3QRaVdAQLhCKIkfLD9AivFpZzMaPEBqohftit08QDKAI8vusDxAIwD8IlG7PED48OYV6bg8QI3+h/93uTxAokVd2la5PECNBWiKXrk8QABC8sFcuTxAZvLQK125PEAM10ITXbk8QJ7R9BhduTxA+qiiF125PEBrF/EXXbk8QH7m3hdduTxAmh7jF125PEAWJOIXXbk8QDBe4hdduTxAtlDiF125PEDXU+IXXbk8QB1T4hdduTxASFPiF125PEA+U+IXXbk8QEBT4hdduTxAQFPiF125PEA=",
          "dtype": "f8"
         },
         "yaxis": "y"
        },
        {
         "line": {
          "color": "red",
          "dash": "dash"
         },
         "mode": "lines",
         "name": "Cenário Pessimista (Média Mensal)",
         "type": "scatter",
         "x": [
          "2025-05-31T00:00:00.000000000",
          "2025-06-30T00:00:00.000000000",
          "2025-07-31T00:00:00.000000000",
          "2025-08-31T00:00:00.000000000",
          "2025-09-30T00:00:00.000000000",
          "2025-10-31T00:00:00.000000000",
          "2025-11-30T00:00:00.000000000",
          "2025-12-31T00:00:00.000000000",
          "2026-01-31T00:00:00.000000000",
          "2026-02-28T00:00:00.000000000",
          "2026-03-31T00:00:00.000000000",
          "2026-04-30T00:00:00.000000000",
          "2026-05-31T00:00:00.000000000",
          "2026-06-30T00:00:00.000000000",
          "2026-07-31T00:00:00.000000000",
          "2026-08-31T00:00:00.000000000",
          "2026-09-30T00:00:00.000000000",
          "2026-10-31T00:00:00.000000000",
          "2026-11-30T00:00:00.000000000",
          "2026-12-31T00:00:00.000000000",
          "2027-01-31T00:00:00.000000000",
          "2027-02-28T00:00:00.000000000",
          "2027-03-31T00:00:00.000000000",
          "2027-04-30T00:00:00.000000000",
          "2027-05-31T00:00:00.000000000",
          "2027-06-30T00:00:00.000000000",
          "2027-07-31T00:00:00.000000000",
          "2027-08-31T00:00:00.000000000"
         ],
         "xaxis": "x",
         "y": {
          "bdata": "mW2nAjVEL0BWMGr411orQIsYgJzEkiZAukzU1ZxvH0Cz3msiuzQhQPE5Cor82iBA6pvd/7nvIEBPPjCC6eogQBbrF1AH7CBAd8B4BcXrIEAKSYpl1OsgQFOLntTQ6yBAL+lbqNHrIEBTsj930esgQHSno4LR6yBALFb/f9HrIEAOM5yA0esgQDTRd4DR6yBAbEGAgNHrIEBkTH6A0esgQJjAfoDR6yBApKV+gNHrIEDmq36A0esgQHKqfoDR6yBAyKp+gNHrIEC0qn6A0esgQLiqfoDR6yBAuKp+gNHrIEA=",
          "dtype": "f8"
         },
         "yaxis": "y"
        },
        {
         "line": {
          "color": "black",
          "width": 2
         },
         "mode": "lines+markers",
         "name": "Acumulado Real",
         "type": "scatter",
         "x": [
          "2023-06-30T00:00:00.000000000",
          "2023-07-31T00:00:00.000000000",
          "2023-08-31T00:00:00.000000000",
          "2023-09-30T00:00:00.000000000",
          "2023-10-31T00:00:00.000000000",
          "2023-11-30T00:00:00.000000000",
          "2023-12-31T00:00:00.000000000",
          "2024-01-31T00:00:00.000000000",
          "2024-02-29T00:00:00.000000000",
          "2024-03-31T00:00:00.000000000",
          "2024-04-30T00:00:00.000000000",
          "2024-05-31T00:00:00.000000000",
          "2024-06-30T00:00:00.000000000",
          "2024-07-31T00:00:00.000000000",
          "2024-08-31T00:00:00.000000000",
          "2024-09-30T00:00:00.000000000",
          "2024-10-31T00:00:00.000000000",
          "2024-11-30T00:00:00.000000000",
          "2024-12-31T00:00:00.000000000",
          "2025-01-31T00:00:00.000000000",
          "2025-02-28T00:00:00.000000000",
          "2025-03-31T00:00:00.000000000",
          "2025-04-30T00:00:00.000000000"
         ],
         "xaxis": "x2",
         "y": {
          "bdata": "WMnH7gJrQ0Ao1NNH4M1NQPKaV3VWVFFADFuzlZcrVEB25EhnYPlYQBTx1vm3VlxAZRu4A/WpYEBdUN8yp2NjQG7fo/76M2VABcO5hploaEAYlGk0OZRpQHr7c9EQ0mxALQjlfZzQb0BUVP1Kp9FwQGYWodhK8XFAfgIoRlbZckC6ha5EYCh0QByz7Ekgm3VAVMiVetZ1dkAh6GhVy554QEUtza0Qq3lAsmX5ukxYekAAAtaqHXF6QA==",
          "dtype": "f8"
         },
         "yaxis": "y2"
        },
        {
         "line": {
          "color": "blue"
         },
         "mode": "lines",
         "name": "Cenário Realista (Acumulado)",
         "type": "scatter",
         "x": [
          "2025-05-31T00:00:00.000000000",
          "2025-06-30T00:00:00.000000000",
          "2025-07-31T00:00:00.000000000",
          "2025-08-31T00:00:00.000000000",
          "2025-09-30T00:00:00.000000000",
          "2025-10-31T00:00:00.000000000",
          "2025-11-30T00:00:00.000000000",
          "2025-12-31T00:00:00.000000000",
          "2026-01-31T00:00:00.000000000",
          "2026-02-28T00:00:00.000000000",
          "2026-03-31T00:00:00.000000000",
          "2026-04-30T00:00:00.000000000",
          "2026-05-31T00:00:00.000000000",
          "2026-06-30T00:00:00.000000000",
          "2026-07-31T00:00:00.000000000",
          "2026-08-31T00:00:00.000000000",
          "2026-09-30T00:00:00.000000000",
          "2026-10-31T00:00:00.000000000",
          "2026-11-30T00:00:00.000000000",
          "2026-12-31T00:00:00.000000000",
          "2027-01-31T00:00:00.000000000",
          "2027-02-28T00:00:00.000000000",
          "2027-03-31T00:00:00.000000000",
          "2027-04-30T00:00:00.000000000",
          "2027-05-31T00:00:00.000000000",
          "2027-06-30T00:00:00.000000000",
          "2027-07-31T00:00:00.000000000",
          "2027-08-31T00:00:00.000000000"
         ],
         "xaxis": "x2",
         "y": {
          "bdata": "AM8a2kr3e0A6vxPLLGp9QLIBz9nYvX5A2Pm1rondf0AzM1R5pISAQKjVlC0eGYFA4IAg5uqtgUAgfXxdpEKCQPHMGkxi14JAiDOPMR9sg0Ax6INU3ACEQFDuNGmZlYRA7Ok0gVYqhUCsdHCYE7+FQEKP2a/QU4ZAkhg4x43ohkBWFZneSn2HQJKA+fUHEohAkA1aDcWmiEC5krokgjuJQLMZGzw/0IlAQaB7U/xkikDoJtxqufmKQIqtPIJ2jotALDSdmTMjjEDOuv2w8LeMQHFBXsitTI1AE8i+32rhjUA=",
          "dtype": "f8"
         },
         "yaxis": "y2"
        },
        {
         "line": {
          "color": "green",
          "dash": "dash"
         },
         "mode": "lines",
         "name": "Cenário Otimista (Acumulado)",
         "type": "scatter",
         "x": [
          "2025-05-31T00:00:00.000000000",
          "2025-06-30T00:00:00.000000000",
          "2025-07-31T00:00:00.000000000",
          "2025-08-31T00:00:00.000000000",
          "2025-09-30T00:00:00.000000000",
          "2025-10-31T00:00:00.000000000",
          "2025-11-30T00:00:00.000000000",
          "2025-12-31T00:00:00.000000000",
          "2026-01-31T00:00:00.000000000",
          "2026-02-28T00:00:00.000000000",
          "2026-03-31T00:00:00.000000000",
          "2026-04-30T00:00:00.000000000",
          "2026-05-31T00:00:00.000000000",
          "2026-06-30T00:00:00.000000000",
          "2026-07-31T00:00:00.000000000",
          "2026-08-31T00:00:00.000000000",
          "2026-09-30T00:00:00.000000000",
          "2026-10-31T00:00:00.000000000",
          "2026-11-30T00:00:00.000000000",
          "2026-12-31T00:00:00.000000000",
          "2027-01-31T00:00:00.000000000",
          "2027-02-28T00:00:00.000000000",
          "2027-03-31T00:00:00.000000000",
          "2027-04-30T00:00:00.000000000",
          "2027-05-31T00:00:00.000000000",
          "2027-06-30T00:00:00.000000000",
          "2027-07-31T00:00:00.000000000",
          "2027-08-31T00:00:00.000000000"
         ],
         "xaxis": "x2",
         "y": {
          "bdata": "lGBKYVaDfECE73iDQ45+QNi5Bb6CQIBAZAlBWVQhgUB4xqmwQAiCQHniAifI7YJAesIasKLTg0AC+sn4abmEQPY5xrg1n4VAIySZbwCFhkBQZOxjy2qHQGD2+0mWUIhA8n1aM2E2iUCrlPQbLByKQDg7vAT3AYtAgFB57cHni0A82TjWjM2MQG/Q975Xs41AZOm2pyKZjkCF+nWQ7X6PQLuGmjxcMpBA/g/6sEGlkEBOmVklJxiRQJoiuZkMi5FA56sYDvL9kUA0NXiC13CSQIG+1/a845JAzkc3a6JWk0A=",
          "dtype": "f8"
         },
         "yaxis": "y2"
        },
        {
         "line": {
          "color": "red",
          "dash": "dash"
         },
         "mode": "lines",
         "name": "Cenário Pessimista (Acumulado)",
         "type": "scatter",
         "x": [
          "2025-05-31T00:00:00.000000000",
          "2025-06-30T00:00:00.000000000",
          "2025-07-31T00:00:00.000000000",
          "2025-08-31T00:00:00.000000000",
          "2025-09-30T00:00:00.000000000",
          "2025-10-31T00:00:00.000000000",
          "2025-11-30T00:00:00.000000000",
          "2025-12-31T00:00:00.000000000",
          "2026-01-31T00:00:00.000000000",
          "2026-02-28T00:00:00.000000000",
          "2026-03-31T00:00:00.000000000",
          "2026-04-30T00:00:00.000000000",
          "2026-05-31T00:00:00.000000000",
          "2026-06-30T00:00:00.000000000",
          "2026-07-31T00:00:00.000000000",
          "2026-08-31T00:00:00.000000000",
          "2026-09-30T00:00:00.000000000",
          "2026-10-31T00:00:00.000000000",
          "2026-11-30T00:00:00.000000000",
          "2026-12-31T00:00:00.000000000",
          "2027-01-31T00:00:00.000000000",
          "2027-02-28T00:00:00.000000000",
          "2027-03-31T00:00:00.000000000",
          "2027-04-30T00:00:00.000000000",
          "2027-05-31T00:00:00.000000000",
          "2027-06-30T00:00:00.000000000",
          "2027-07-31T00:00:00.000000000",
          "2027-08-31T00:00:00.000000000"
         ],
         "xaxis": "x2",
         "y": {
          "bdata": "bT3rUj9re0Dwjq4SFkZ8QLSPkjes+nxA5+Dpqmp4fUDcP/2DEAJ+QKyRTWjoiH5Ai35MOGYQf0B+AF6EvZd/QOtfb9+OD4BA7UKF8z1TgEARbBtF7ZaAQD7mbYic2oBA41UPz0segUCsVOwU+2GBQErj9lqqpYFAo+D2oFnpgUBvUfnmCC2CQLQw+yy4cIJAujH9cme0gkDrKv+4FviCQO4lAf/FO4NAhCADRXV/g0A0GwWLJMODQN0VB9HTBoRAiBAJF4NKhEAzCwtdMo6EQN4FDaPh0YRAiQAP6ZAVhUA=",
          "dtype": "f8"
         },
         "yaxis": "y2"
        }
       ],
       "layout": {
        "annotations": [
         {
          "font": {
           "size": 16
          },
          "showarrow": false,
          "text": "Projeção Média Mensal de Fabricação",
          "x": 0.5,
          "xanchor": "center",
          "xref": "paper",
          "y": 1,
          "yanchor": "bottom",
          "yref": "paper"
         },
         {
          "font": {
           "size": 16
          },
          "showarrow": false,
          "text": "Projeção Acumulada de Fabricação",
          "x": 0.5,
          "xanchor": "center",
          "xref": "paper",
          "y": 0.45,
          "yanchor": "bottom",
          "yref": "paper"
         }
        ],
        "height": 1000,
        "showlegend": true,
        "template": {
         "data": {
          "bar": [
           {
            "error_x": {
             "color": "#2a3f5f"
            },
            "error_y": {
             "color": "#2a3f5f"
            },
            "marker": {
             "line": {
              "color": "white",
              "width": 0.5
             },
             "pattern": {
              "fillmode": "overlay",
              "size": 10,
              "solidity": 0.2
             }
            },
            "type": "bar"
           }
          ],
          "barpolar": [
           {
            "marker": {
             "line": {
              "color": "white",
              "width": 0.5
             },
             "pattern": {
              "fillmode": "overlay",
              "size": 10,
              "solidity": 0.2
             }
            },
            "type": "barpolar"
           }
          ],
          "carpet": [
           {
            "aaxis": {
             "endlinecolor": "#2a3f5f",
             "gridcolor": "#C8D4E3",
             "linecolor": "#C8D4E3",
             "minorgridcolor": "#C8D4E3",
             "startlinecolor": "#2a3f5f"
            },
            "baxis": {
             "endlinecolor": "#2a3f5f",
             "gridcolor": "#C8D4E3",
             "linecolor": "#C8D4E3",
             "minorgridcolor": "#C8D4E3",
             "startlinecolor": "#2a3f5f"
            },
            "type": "carpet"
           }
          ],
          "choropleth": [
           {
            "colorbar": {
             "outlinewidth": 0,
             "ticks": ""
            },
            "type": "choropleth"
           }
          ],
          "contour": [
           {
            "colorbar": {
             "outlinewidth": 0,
             "ticks": ""
            },
            "colorscale": [
             [
              0,
              "#0d0887"
             ],
             [
              0.1111111111111111,
              "#46039f"
             ],
             [
              0.2222222222222222,
              "#7201a8"
             ],
             [
              0.3333333333333333,
              "#9c179e"
             ],
             [
              0.4444444444444444,
              "#bd3786"
             ],
             [
              0.5555555555555556,
              "#d8576b"
             ],
             [
              0.6666666666666666,
              "#ed7953"
             ],
             [
              0.7777777777777778,
              "#fb9f3a"
             ],
             [
              0.8888888888888888,
              "#fdca26"
             ],
             [
              1,
              "#f0f921"
             ]
            ],
            "type": "contour"
           }
          ],
          "contourcarpet": [
           {
            "colorbar": {
             "outlinewidth": 0,
             "ticks": ""
            },
            "type": "contourcarpet"
           }
          ],
          "heatmap": [
           {
            "colorbar": {
             "outlinewidth": 0,
             "ticks": ""
            },
            "colorscale": [
             [
              0,
              "#0d0887"
             ],
             [
              0.1111111111111111,
              "#46039f"
             ],
             [
              0.2222222222222222,
              "#7201a8"
             ],
             [
              0.3333333333333333,
              "#9c179e"
             ],
             [
              0.4444444444444444,
              "#bd3786"
             ],
             [
              0.5555555555555556,
              "#d8576b"
             ],
             [
              0.6666666666666666,
              "#ed7953"
             ],
             [
              0.7777777777777778,
              "#fb9f3a"
             ],
             [
              0.8888888888888888,
              "#fdca26"
             ],
             [
              1,
              "#f0f921"
             ]
            ],
            "type": "heatmap"
           }
          ],
          "histogram": [
           {
            "marker": {
             "pattern": {
              "fillmode": "overlay",
              "size": 10,
              "solidity": 0.2
             }
            },
            "type": "histogram"
           }
          ],
          "histogram2d": [
           {
            "colorbar": {
             "outlinewidth": 0,
             "ticks": ""
            },
            "colorscale": [
             [
              0,
              "#0d0887"
             ],
             [
              0.1111111111111111,
              "#46039f"
             ],
             [
              0.2222222222222222,
              "#7201a8"
             ],
             [
              0.3333333333333333,
              "#9c179e"
             ],
             [
              0.4444444444444444,
              "#bd3786"
             ],
             [
              0.5555555555555556,
              "#d8576b"
             ],
             [
              0.6666666666666666,
              "#ed7953"
             ],
             [
              0.7777777777777778,
              "#fb9f3a"
             ],
             [
              0.8888888888888888,
              "#fdca26"
             ],
             [
              1,
              "#f0f921"
             ]
            ],
            "type": "histogram2d"
           }
          ],
          "histogram2dcontour": [
           {
            "colorbar": {
             "outlinewidth": 0,
             "ticks": ""
            },
            "colorscale": [
             [
              0,
              "#0d0887"
             ],
             [
              0.1111111111111111,
              "#46039f"
             ],
             [
              0.2222222222222222,
              "#7201a8"
             ],
             [
              0.3333333333333333,
              "#9c179e"
             ],
             [
              0.4444444444444444,
              "#bd3786"
             ],
             [
              0.5555555555555556,
              "#d8576b"
             ],
             [
              0.6666666666666666,
              "#ed7953"
             ],
             [
              0.7777777777777778,
              "#fb9f3a"
             ],
             [
              0.8888888888888888,
              "#fdca26"
             ],
             [
              1,
              "#f0f921"
             ]
            ],
            "type": "histogram2dcontour"
           }
          ],
          "mesh3d": [
           {
            "colorbar": {
             "outlinewidth": 0,
             "ticks": ""
            },
            "type": "mesh3d"
           }
          ],
          "parcoords": [
           {
            "line": {
             "colorbar": {
              "outlinewidth": 0,
              "ticks": ""
             }
            },
            "type": "parcoords"
           }
          ],
          "pie": [
           {
            "automargin": true,
            "type": "pie"
           }
          ],
          "scatter": [
           {
            "fillpattern": {
             "fillmode": "overlay",
             "size": 10,
             "solidity": 0.2
            },
            "type": "scatter"
           }
          ],
          "scatter3d": [
           {
            "line": {
             "colorbar": {
              "outlinewidth": 0,
              "ticks": ""
             }
            },
            "marker": {
             "colorbar": {
              "outlinewidth": 0,
              "ticks": ""
             }
            },
            "type": "scatter3d"
           }
          ],
          "scattercarpet": [
           {
            "marker": {
             "colorbar": {
              "outlinewidth": 0,
              "ticks": ""
             }
            },
            "type": "scattercarpet"
           }
          ],
          "scattergeo": [
           {
            "marker": {
             "colorbar": {
              "outlinewidth": 0,
              "ticks": ""
             }
            },
            "type": "scattergeo"
           }
          ],
          "scattergl": [
           {
            "marker": {
             "colorbar": {
              "outlinewidth": 0,
              "ticks": ""
             }
            },
            "type": "scattergl"
           }
          ],
          "scattermap": [
           {
            "marker": {
             "colorbar": {
              "outlinewidth": 0,
              "ticks": ""
             }
            },
            "type": "scattermap"
           }
          ],
          "scattermapbox": [
           {
            "marker": {
             "colorbar": {
              "outlinewidth": 0,
              "ticks": ""
             }
            },
            "type": "scattermapbox"
           }
          ],
          "scatterpolar": [
           {
            "marker": {
             "colorbar": {
              "outlinewidth": 0,
              "ticks": ""
             }
            },
            "type": "scatterpolar"
           }
          ],
          "scatterpolargl": [
           {
            "marker": {
             "colorbar": {
              "outlinewidth": 0,
              "ticks": ""
             }
            },
            "type": "scatterpolargl"
           }
          ],
          "scatterternary": [
           {
            "marker": {
             "colorbar": {
              "outlinewidth": 0,
              "ticks": ""
             }
            },
            "type": "scatterternary"
           }
          ],
          "surface": [
           {
            "colorbar": {
             "outlinewidth": 0,
             "ticks": ""
            },
            "colorscale": [
             [
              0,
              "#0d0887"
             ],
             [
              0.1111111111111111,
              "#46039f"
             ],
             [
              0.2222222222222222,
              "#7201a8"
             ],
             [
              0.3333333333333333,
              "#9c179e"
             ],
             [
              0.4444444444444444,
              "#bd3786"
             ],
             [
              0.5555555555555556,
              "#d8576b"
             ],
             [
              0.6666666666666666,
              "#ed7953"
             ],
             [
              0.7777777777777778,
              "#fb9f3a"
             ],
             [
              0.8888888888888888,
              "#fdca26"
             ],
             [
              1,
              "#f0f921"
             ]
            ],
            "type": "surface"
           }
          ],
          "table": [
           {
            "cells": {
             "fill": {
              "color": "#EBF0F8"
             },
             "line": {
              "color": "white"
             }
            },
            "header": {
             "fill": {
              "color": "#C8D4E3"
             },
             "line": {
              "color": "white"
             }
            },
            "type": "table"
           }
          ]
         },
         "layout": {
          "annotationdefaults": {
           "arrowcolor": "#2a3f5f",
           "arrowhead": 0,
           "arrowwidth": 1
          },
          "autotypenumbers": "strict",
          "coloraxis": {
           "colorbar": {
            "outlinewidth": 0,
            "ticks": ""
           }
          },
          "colorscale": {
           "diverging": [
            [
             0,
             "#8e0152"
            ],
            [
             0.1,
             "#c51b7d"
            ],
            [
             0.2,
             "#de77ae"
            ],
            [
             0.3,
             "#f1b6da"
            ],
            [
             0.4,
             "#fde0ef"
            ],
            [
             0.5,
             "#f7f7f7"
            ],
            [
             0.6,
             "#e6f5d0"
            ],
            [
             0.7,
             "#b8e186"
            ],
            [
             0.8,
             "#7fbc41"
            ],
            [
             0.9,
             "#4d9221"
            ],
            [
             1,
             "#276419"
            ]
           ],
           "sequential": [
            [
             0,
             "#0d0887"
            ],
            [
             0.1111111111111111,
             "#46039f"
            ],
            [
             0.2222222222222222,
             "#7201a8"
            ],
            [
             0.3333333333333333,
             "#9c179e"
            ],
            [
             0.4444444444444444,
             "#bd3786"
            ],
            [
             0.5555555555555556,
             "#d8576b"
            ],
            [
             0.6666666666666666,
             "#ed7953"
            ],
            [
             0.7777777777777778,
             "#fb9f3a"
            ],
            [
             0.8888888888888888,
             "#fdca26"
            ],
            [
             1,
             "#f0f921"
            ]
           ],
           "sequentialminus": [
            [
             0,
             "#0d0887"
            ],
            [
             0.1111111111111111,
             "#46039f"
            ],
            [
             0.2222222222222222,
             "#7201a8"
            ],
            [
             0.3333333333333333,
             "#9c179e"
            ],
            [
             0.4444444444444444,
             "#bd3786"
            ],
            [
             0.5555555555555556,
             "#d8576b"
            ],
            [
             0.6666666666666666,
             "#ed7953"
            ],
            [
             0.7777777777777778,
             "#fb9f3a"
            ],
            [
             0.8888888888888888,
             "#fdca26"
            ],
            [
             1,
             "#f0f921"
            ]
           ]
          },
          "colorway": [
           "#636efa",
           "#EF553B",
           "#00cc96",
           "#ab63fa",
           "#FFA15A",
           "#19d3f3",
           "#FF6692",
           "#B6E880",
           "#FF97FF",
           "#FECB52"
          ],
          "font": {
           "color": "#2a3f5f"
          },
          "geo": {
           "bgcolor": "white",
           "lakecolor": "white",
           "landcolor": "white",
           "showlakes": true,
           "showland": true,
           "subunitcolor": "#C8D4E3"
          },
          "hoverlabel": {
           "align": "left"
          },
          "hovermode": "closest",
          "mapbox": {
           "style": "light"
          },
          "paper_bgcolor": "white",
          "plot_bgcolor": "white",
          "polar": {
           "angularaxis": {
            "gridcolor": "#EBF0F8",
            "linecolor": "#EBF0F8",
            "ticks": ""
           },
           "bgcolor": "white",
           "radialaxis": {
            "gridcolor": "#EBF0F8",
            "linecolor": "#EBF0F8",
            "ticks": ""
           }
          },
          "scene": {
           "xaxis": {
            "backgroundcolor": "white",
            "gridcolor": "#DFE8F3",
            "gridwidth": 2,
            "linecolor": "#EBF0F8",
            "showbackground": true,
            "ticks": "",
            "zerolinecolor": "#EBF0F8"
           },
           "yaxis": {
            "backgroundcolor": "white",
            "gridcolor": "#DFE8F3",
            "gridwidth": 2,
            "linecolor": "#EBF0F8",
            "showbackground": true,
            "ticks": "",
            "zerolinecolor": "#EBF0F8"
           },
           "zaxis": {
            "backgroundcolor": "white",
            "gridcolor": "#DFE8F3",
            "gridwidth": 2,
            "linecolor": "#EBF0F8",
            "showbackground": true,
            "ticks": "",
            "zerolinecolor": "#EBF0F8"
           }
          },
          "shapedefaults": {
           "line": {
            "color": "#2a3f5f"
           }
          },
          "ternary": {
           "aaxis": {
            "gridcolor": "#DFE8F3",
            "linecolor": "#A2B1C6",
            "ticks": ""
           },
           "baxis": {
            "gridcolor": "#DFE8F3",
            "linecolor": "#A2B1C6",
            "ticks": ""
           },
           "bgcolor": "white",
           "caxis": {
            "gridcolor": "#DFE8F3",
            "linecolor": "#A2B1C6",
            "ticks": ""
           }
          },
          "title": {
           "x": 0.05
          },
          "xaxis": {
           "automargin": true,
           "gridcolor": "#EBF0F8",
           "linecolor": "#EBF0F8",
           "ticks": "",
           "title": {
            "standoff": 15
           },
           "zerolinecolor": "#EBF0F8",
           "zerolinewidth": 2
          },
          "yaxis": {
           "automargin": true,
           "gridcolor": "#EBF0F8",
           "linecolor": "#EBF0F8",
           "ticks": "",
           "title": {
            "standoff": 15
           },
           "zerolinecolor": "#EBF0F8",
           "zerolinewidth": 2
          }
         }
        },
        "title": {
         "text": "Projeção de Fabricação (Ton) até Julho/2027 - IC 80%"
        },
        "xaxis": {
         "anchor": "y",
         "domain": [
          0,
          1
         ],
         "matches": "x2",
         "showticklabels": false
        },
        "xaxis2": {
         "anchor": "y2",
         "domain": [
          0,
          1
         ],
         "title": {
          "text": "Data"
         }
        },
        "yaxis": {
         "anchor": "x",
         "domain": [
          0.55,
          1
         ],
         "title": {
          "text": "Peso Total (Ton)"
         }
        },
        "yaxis2": {
         "anchor": "x2",
         "domain": [
          0,
          0.45
         ],
         "title": {
          "text": "Acumulado de Peso Total (Ton)"
         }
        }
       }
      }
     },
     "metadata": {},
     "output_type": "display_data"
    }
   ],
   "source": [
    "import plotly.graph_objects as go\n",
    "import plotly.subplots as sp\n",
    "\n",
    "# Criando a figura com 2 subgráficos (um abaixo do outro)\n",
    "fig = sp.make_subplots(\n",
    "    rows=2, cols=1,\n",
    "    subplot_titles=('Projeção Média Mensal de Fabricação', 'Projeção Acumulada de Fabricação'),\n",
    "    shared_xaxes=True,  # Compartilha o eixo X entre os dois gráficos\n",
    "    vertical_spacing=0.1  # Ajusta o espaço entre os gráficos\n",
    ")\n",
    "\n",
    "# Gráfico de Média Mensal\n",
    "fig.add_trace(go.Scatter(\n",
    "    x=serie_total.index,\n",
    "    y=serie_total.values,\n",
    "    mode='lines+markers',\n",
    "    name='Histórico Real (Média Mensal)',\n",
    "    line=dict(color='black', width=2)\n",
    "), row=1, col=1)\n",
    "\n",
    "fig.add_trace(go.Scatter(\n",
    "    x=datas_futuras,\n",
    "    y=previsao_soma_realista,\n",
    "    mode='lines',\n",
    "    name='Cenário Realista (Média Mensal)',\n",
    "    line=dict(color='blue')\n",
    "), row=1, col=1)\n",
    "\n",
    "fig.add_trace(go.Scatter(\n",
    "    x=datas_futuras,\n",
    "    y=soma_otimista,\n",
    "    mode='lines',\n",
    "    name='Cenário Otimista (Média Mensal)',\n",
    "    line=dict(color='green', dash='dash')\n",
    "), row=1, col=1)\n",
    "\n",
    "fig.add_trace(go.Scatter(\n",
    "    x=datas_futuras,\n",
    "    y=soma_pessimista,\n",
    "    mode='lines',\n",
    "    name='Cenário Pessimista (Média Mensal)',\n",
    "    line=dict(color='red', dash='dash')\n",
    "), row=1, col=1)\n",
    "\n",
    "# Gráfico de Acumulado\n",
    "fig.add_trace(go.Scatter(\n",
    "    x=soma_mensal.index,\n",
    "    y=soma_mensal.cumsum(),\n",
    "    mode='lines+markers',\n",
    "    name='Acumulado Real',\n",
    "    line=dict(color='black', width=2)\n",
    "), row=2, col=1)\n",
    "\n",
    "fig.add_trace(go.Scatter(\n",
    "    x=datas_futuras,\n",
    "    y=acumulado_realista,\n",
    "    mode='lines',\n",
    "    name='Cenário Realista (Acumulado)',\n",
    "    line=dict(color='blue')\n",
    "), row=2, col=1)\n",
    "\n",
    "fig.add_trace(go.Scatter(\n",
    "    x=datas_futuras,\n",
    "    y=acumulado_otimista,\n",
    "    mode='lines',\n",
    "    name='Cenário Otimista (Acumulado)',\n",
    "    line=dict(color='green', dash='dash')\n",
    "), row=2, col=1)\n",
    "\n",
    "fig.add_trace(go.Scatter(\n",
    "    x=datas_futuras,\n",
    "    y=acumulado_pessimista,\n",
    "    mode='lines',\n",
    "    name='Cenário Pessimista (Acumulado)',\n",
    "    line=dict(color='red', dash='dash')\n",
    "), row=2, col=1)\n",
    "\n",
    "# Atualizando o layout\n",
    "fig.update_layout(\n",
    "    title='Projeção de Fabricação (Ton) até Julho/2027 - IC 80%',\n",
    "    showlegend=True,\n",
    "    template='plotly_white',\n",
    "    height=1000,  # Ajusta a altura total do gráfico (para melhor visualização)\n",
    ")\n",
    "\n",
    "# Títulos dos eixos e ajustes de layout para os gráficos\n",
    "fig.update_xaxes(title_text='Data', row=2, col=1)\n",
    "fig.update_yaxes(title_text='Peso Total (Ton)', row=1, col=1)\n",
    "fig.update_yaxes(title_text='Acumulado de Peso Total (Ton)', row=2, col=1)\n",
    "\n",
    "# Exibindo o gráfico\n",
    "fig.show()\n"
   ]
  },
  {
   "cell_type": "code",
   "execution_count": 281,
   "metadata": {},
   "outputs": [
    {
     "data": {
      "application/vnd.plotly.v1+json": {
       "config": {
        "plotlyServerURL": "https://plot.ly"
       },
       "data": [
        {
         "line": {
          "color": "black",
          "width": 2
         },
         "mode": "lines+markers",
         "name": "Histórico Real (Média Mensal)",
         "type": "scatter",
         "x": [
          "2023-04-30T00:00:00.000000000",
          "2023-05-31T00:00:00.000000000",
          "2023-06-30T00:00:00.000000000",
          "2023-07-31T00:00:00.000000000",
          "2023-08-31T00:00:00.000000000",
          "2023-09-30T00:00:00.000000000",
          "2023-10-31T00:00:00.000000000",
          "2023-11-30T00:00:00.000000000",
          "2023-12-31T00:00:00.000000000",
          "2024-01-31T00:00:00.000000000",
          "2024-02-29T00:00:00.000000000",
          "2024-03-31T00:00:00.000000000",
          "2024-04-30T00:00:00.000000000",
          "2024-05-31T00:00:00.000000000",
          "2024-06-30T00:00:00.000000000",
          "2024-07-31T00:00:00.000000000",
          "2024-08-31T00:00:00.000000000",
          "2024-09-30T00:00:00.000000000",
          "2024-10-31T00:00:00.000000000",
          "2024-11-30T00:00:00.000000000",
          "2024-12-31T00:00:00.000000000",
          "2025-01-31T00:00:00.000000000",
          "2025-02-28T00:00:00.000000000",
          "2025-03-31T00:00:00.000000000",
          "2025-04-30T00:00:00.000000000",
          "2025-05-31T00:00:00.000000000",
          "2025-06-30T00:00:00.000000000",
          "2025-07-31T00:00:00.000000000",
          "2025-08-31T00:00:00.000000000",
          "2025-09-30T00:00:00.000000000",
          "2025-10-31T00:00:00.000000000",
          "2025-11-30T00:00:00.000000000",
          "2025-12-31T00:00:00.000000000"
         ],
         "xaxis": "x",
         "y": {
          "bdata": "Nc07TtGRjD9KCcGqehkCQFjJx+4Ca0NAoBUYsrrFNEDshm2LMmsjQNIA3gIJuiZApiVWRiM3M0DtZHCUvOoqQNsWZTbI9DNAwqc5eZHNNUAL8Ui8PAUtQLgcr0D0pDlAOBH92vq5IkARO1PovO45QJVliGNd9DdAswdagSErLUAYITzaOPoxQP2C3bBtAS1AxzNo6J/wNEAj1uJTACw3QPSmIhXGVitAaf6Y1qZHQUA/UkSGVcQwQKYNh6WBpyVAqU2c3O/Q+D8AAAAAAAAAAFOWIY51cYs/AAAAAAAAAAAAAAAAAAAAAAAAAAAAAAAAAAAAAAAAAAAAAAAAAAAAABaMSuoENJE/",
          "dtype": "f8"
         },
         "yaxis": "y"
        },
        {
         "line": {
          "color": "blue"
         },
         "mode": "lines",
         "name": "Cenário Realista (Média Mensal)",
         "type": "scatter",
         "x": [
          "2026-01-31T00:00:00.000000000",
          "2026-02-28T00:00:00.000000000",
          "2026-03-31T00:00:00.000000000",
          "2026-04-30T00:00:00.000000000",
          "2026-05-31T00:00:00.000000000",
          "2026-06-30T00:00:00.000000000",
          "2026-07-31T00:00:00.000000000",
          "2026-08-31T00:00:00.000000000",
          "2026-09-30T00:00:00.000000000",
          "2026-10-31T00:00:00.000000000",
          "2026-11-30T00:00:00.000000000",
          "2026-12-31T00:00:00.000000000",
          "2027-01-31T00:00:00.000000000",
          "2027-02-28T00:00:00.000000000",
          "2027-03-31T00:00:00.000000000",
          "2027-04-30T00:00:00.000000000",
          "2027-05-31T00:00:00.000000000",
          "2027-06-30T00:00:00.000000000",
          "2027-07-31T00:00:00.000000000",
          "2027-08-31T00:00:00.000000000",
          "2027-09-30T00:00:00.000000000",
          "2027-10-31T00:00:00.000000000",
          "2027-11-30T00:00:00.000000000",
          "2027-12-31T00:00:00.000000000",
          "2028-01-31T00:00:00.000000000",
          "2028-02-29T00:00:00.000000000",
          "2028-03-31T00:00:00.000000000",
          "2028-04-30T00:00:00.000000000",
          "2028-05-31T00:00:00.000000000",
          "2028-06-30T00:00:00.000000000",
          "2028-07-31T00:00:00.000000000",
          "2028-08-31T00:00:00.000000000",
          "2028-09-30T00:00:00.000000000",
          "2028-10-31T00:00:00.000000000",
          "2028-11-30T00:00:00.000000000",
          "2028-12-31T00:00:00.000000000"
         ],
         "xaxis": "x",
         "y": {
          "bdata": "dGlcgL2AC0Cq/UVZTn8SQEOEHZb9kBRAghwizvjDGEBZrMj9Iz0cQMaPV1+dHB9AyWdW+Xq+IEArzF2TE7ohQLOvOwYviiJAbU0WtVE2I0DXgr5gs8QjQB+2x6Z4OiRAVlxmkOKbJECXTNvodewkQFUALscbLyVAnIkXeDxmJUA2+f3A1ZMlQE4820mNuSVAx1dV2L/YJUD9Td/ojfIlQALBYRrmByZAemnHzI0ZJkCbjCFCKCgmQFS1UYQ8NCZA+a/ARTo+JkCCxD3qfUYmQBNAVd1TTSZAHXP6VPtSJkDouguaqFcmQEmpzeuGWyZALhbUD7peJkB5HcucX2EmQGbWEgyQYyZAW9kPnF9lJkC8VF0L32YmQMS0ozMcaCZA",
          "dtype": "f8"
         },
         "yaxis": "y"
        },
        {
         "line": {
          "color": "green",
          "dash": "dash"
         },
         "mode": "lines",
         "name": "Cenário Otimista (Média Mensal)",
         "type": "scatter",
         "x": [
          "2026-01-31T00:00:00.000000000",
          "2026-02-28T00:00:00.000000000",
          "2026-03-31T00:00:00.000000000",
          "2026-04-30T00:00:00.000000000",
          "2026-05-31T00:00:00.000000000",
          "2026-06-30T00:00:00.000000000",
          "2026-07-31T00:00:00.000000000",
          "2026-08-31T00:00:00.000000000",
          "2026-09-30T00:00:00.000000000",
          "2026-10-31T00:00:00.000000000",
          "2026-11-30T00:00:00.000000000",
          "2026-12-31T00:00:00.000000000",
          "2027-01-31T00:00:00.000000000",
          "2027-02-28T00:00:00.000000000",
          "2027-03-31T00:00:00.000000000",
          "2027-04-30T00:00:00.000000000",
          "2027-05-31T00:00:00.000000000",
          "2027-06-30T00:00:00.000000000",
          "2027-07-31T00:00:00.000000000",
          "2027-08-31T00:00:00.000000000",
          "2027-09-30T00:00:00.000000000",
          "2027-10-31T00:00:00.000000000",
          "2027-11-30T00:00:00.000000000",
          "2027-12-31T00:00:00.000000000",
          "2028-01-31T00:00:00.000000000",
          "2028-02-29T00:00:00.000000000",
          "2028-03-31T00:00:00.000000000",
          "2028-04-30T00:00:00.000000000",
          "2028-05-31T00:00:00.000000000",
          "2028-06-30T00:00:00.000000000",
          "2028-07-31T00:00:00.000000000",
          "2028-08-31T00:00:00.000000000",
          "2028-09-30T00:00:00.000000000",
          "2028-10-31T00:00:00.000000000",
          "2028-11-30T00:00:00.000000000",
          "2028-12-31T00:00:00.000000000"
         ],
         "xaxis": "x",
         "y": {
          "bdata": "kCpCfT4BLkAl1QN+QM8wQMAnAgP3cjFA8kJ9C2sFM0C5K6gqIzw0QIJGAmkxLzVAlKYcSTHvNUB8CcAkCYg2QMvNYB15AjdAnRL2ORBlN0A0Q13Uy7Q3QHIlNI+D9TdAQsQQozQqOEDyjC6XN1U4QB7QMkdneDhAwNZyqT2VOEBulclN6aw4QMxFNJxdwDhAQgKnPF/QOEAPYaOnjd04QG6uppZq6DhA34cu2V/xOECutqTvw/g4QDStSrTd/jhA/pgYSOcDOUBGhFVsEAg5QNo9AmiACzlAJMMGkVcOOUAYUbaLsBA5QG7JMk+hEjlA8iwj+jsUOUBOftKAjxU5QNhJ9juoFjlAgsTsXZAXOUDMYCFTUBg5QKCvYRHvGDlA",
          "dtype": "f8"
         },
         "yaxis": "y"
        },
        {
         "line": {
          "color": "red",
          "dash": "dash"
         },
         "mode": "lines",
         "name": "Cenário Pessimista (Média Mensal)",
         "type": "scatter",
         "x": [
          "2026-01-31T00:00:00.000000000",
          "2026-02-28T00:00:00.000000000",
          "2026-03-31T00:00:00.000000000",
          "2026-04-30T00:00:00.000000000",
          "2026-05-31T00:00:00.000000000",
          "2026-06-30T00:00:00.000000000",
          "2026-07-31T00:00:00.000000000",
          "2026-08-31T00:00:00.000000000",
          "2026-09-30T00:00:00.000000000",
          "2026-10-31T00:00:00.000000000",
          "2026-11-30T00:00:00.000000000",
          "2026-12-31T00:00:00.000000000",
          "2027-01-31T00:00:00.000000000",
          "2027-02-28T00:00:00.000000000",
          "2027-03-31T00:00:00.000000000",
          "2027-04-30T00:00:00.000000000",
          "2027-05-31T00:00:00.000000000",
          "2027-06-30T00:00:00.000000000",
          "2027-07-31T00:00:00.000000000",
          "2027-08-31T00:00:00.000000000",
          "2027-09-30T00:00:00.000000000",
          "2027-10-31T00:00:00.000000000",
          "2027-11-30T00:00:00.000000000",
          "2027-12-31T00:00:00.000000000",
          "2028-01-31T00:00:00.000000000",
          "2028-02-29T00:00:00.000000000",
          "2028-03-31T00:00:00.000000000",
          "2028-04-30T00:00:00.000000000",
          "2028-05-31T00:00:00.000000000",
          "2028-06-30T00:00:00.000000000",
          "2028-07-31T00:00:00.000000000",
          "2028-08-31T00:00:00.000000000",
          "2028-09-30T00:00:00.000000000",
          "2028-10-31T00:00:00.000000000",
          "2028-11-30T00:00:00.000000000",
          "2028-12-31T00:00:00.000000000"
         ],
         "xaxis": "x",
         "y": {
          "bdata": "1vUTvd9AIMBAWYNFZT4ewHmWzd/gqRzAwtKwkbqNGsAzVg+vRHYYwH76WeWKgxbAKvsYP9nCFMBG9YhF1jcTwGB4lFwo4RHAwBR/E/q6EMDsAvacw4APwJx6Y0NX2A3AXD9TlZByDMDUAppyDUYLwEh+JgBcSgrAJGnaigl4CcDE4VxmnMgIwOxLyJKCNgjA2FONIvu8B8CQmCD2/VcHwGBrJ+IjBAfAKPM4Y5C+BsCYUBls3YQGwPy+x38JVQbAKEi/EmgtBsAc/r0QlAwGwDjuZ1Vk8QXANIBi4OHaBcCAsVSNP8gFwCQBKRvTuAXAHLZ4Ug+sBcCkBjsgf6EFwJSbG3/BmAXAPFnnDoaRBcB8YCA+iosFwNzW7+2WhgXA",
          "dtype": "f8"
         },
         "yaxis": "y"
        },
        {
         "line": {
          "color": "black",
          "width": 2
         },
         "mode": "lines+markers",
         "name": "Acumulado Real",
         "type": "scatter",
         "x": [
          "2023-04-30T00:00:00.000000000",
          "2023-05-31T00:00:00.000000000",
          "2023-06-30T00:00:00.000000000",
          "2023-07-31T00:00:00.000000000",
          "2023-08-31T00:00:00.000000000",
          "2023-09-30T00:00:00.000000000",
          "2023-10-31T00:00:00.000000000",
          "2023-11-30T00:00:00.000000000",
          "2023-12-31T00:00:00.000000000",
          "2024-01-31T00:00:00.000000000",
          "2024-02-29T00:00:00.000000000",
          "2024-03-31T00:00:00.000000000",
          "2024-04-30T00:00:00.000000000",
          "2024-05-31T00:00:00.000000000",
          "2024-06-30T00:00:00.000000000",
          "2024-07-31T00:00:00.000000000",
          "2024-08-31T00:00:00.000000000",
          "2024-09-30T00:00:00.000000000",
          "2024-10-31T00:00:00.000000000",
          "2024-11-30T00:00:00.000000000",
          "2024-12-31T00:00:00.000000000",
          "2025-01-31T00:00:00.000000000",
          "2025-02-28T00:00:00.000000000",
          "2025-03-31T00:00:00.000000000",
          "2025-04-30T00:00:00.000000000",
          "2025-05-31T00:00:00.000000000",
          "2025-06-30T00:00:00.000000000",
          "2025-07-31T00:00:00.000000000",
          "2025-08-31T00:00:00.000000000",
          "2025-09-30T00:00:00.000000000",
          "2025-10-31T00:00:00.000000000",
          "2025-11-30T00:00:00.000000000",
          "2025-12-31T00:00:00.000000000"
         ],
         "xaxis": "x2",
         "y": {
          "bdata": "Nc07TtGRjD8XRQ98DDYCQKm9iLZjjkRAeciUD0HxTkAaFTjZBuZRQDTVk/lHvVRAnl4pyxCLWUA8a7ddaOhcQHlYqDXN8mBAcY3PZH+sY0CCHJQw03xlQBkAqrhxsWhALNFZZhHdaUCOOGQD6RptQKCi6le6DHBA3nL1YxP2cEDwNJnxthVyQAghIF/C/XJARKSmXcxMdECm0eRijL91QN7mjZNCmnZAqwZhbjfDeEDPS8XGfM95QDyE8dO4fHpAiiDOw4mVekCKIM7DiZV6QM08uabAlXpAzTy5psCVekDNPLmmwJV6QM08uabAlXpAzTy5psCVekDNPLmmwJV6QPflzHYFlnpA",
          "dtype": "f8"
         },
         "yaxis": "y2"
        },
        {
         "line": {
          "color": "blue"
         },
         "mode": "lines",
         "name": "Cenário Realista (Acumulado)",
         "type": "scatter",
         "x": [
          "2026-01-31T00:00:00.000000000",
          "2026-02-28T00:00:00.000000000",
          "2026-03-31T00:00:00.000000000",
          "2026-04-30T00:00:00.000000000",
          "2026-05-31T00:00:00.000000000",
          "2026-06-30T00:00:00.000000000",
          "2026-07-31T00:00:00.000000000",
          "2026-08-31T00:00:00.000000000",
          "2026-09-30T00:00:00.000000000",
          "2026-10-31T00:00:00.000000000",
          "2026-11-30T00:00:00.000000000",
          "2026-12-31T00:00:00.000000000",
          "2027-01-31T00:00:00.000000000",
          "2027-02-28T00:00:00.000000000",
          "2027-03-31T00:00:00.000000000",
          "2027-04-30T00:00:00.000000000",
          "2027-05-31T00:00:00.000000000",
          "2027-06-30T00:00:00.000000000",
          "2027-07-31T00:00:00.000000000",
          "2027-08-31T00:00:00.000000000",
          "2027-09-30T00:00:00.000000000",
          "2027-10-31T00:00:00.000000000",
          "2027-11-30T00:00:00.000000000",
          "2027-12-31T00:00:00.000000000",
          "2028-01-31T00:00:00.000000000",
          "2028-02-29T00:00:00.000000000",
          "2028-03-31T00:00:00.000000000",
          "2028-04-30T00:00:00.000000000",
          "2028-05-31T00:00:00.000000000",
          "2028-06-30T00:00:00.000000000",
          "2028-07-31T00:00:00.000000000",
          "2028-08-31T00:00:00.000000000",
          "2028-09-30T00:00:00.000000000",
          "2028-10-31T00:00:00.000000000",
          "2028-11-30T00:00:00.000000000",
          "2028-12-31T00:00:00.000000000"
         ],
         "xaxis": "x2",
         "y": {
          "bdata": "yp7N8QbNekDBtjIrBBd7QNIsiyFIaXtARLXDBFjMe0D117qUTD18QDQ2OAq/uXxAcukC4rI/fUDU151+g819QFG1z/bUYX5AvWd4hIf7fkDUW34frZl/QMJMWnLAHYBANOab/C9wgEBmUz/U4cOAQGcLXEOeGIFAjmk8NTdugUByYUCMhsSBQGTOZ8FsG4JAwyPJwM9ygkD7oGz4mcqCQP8n1pC5IoNApUUJyB97g0DXyxFpwNODQKwSI1uRLIRAbBU6RIqFhEB+DOM7pN6EQH9hWIvZN4VAS0useCWRhUA2ehQbhOqFQNywwzbyQ4ZANAEDH22dhkCqLXad8vaGQAR5pt2AUIdAabgWXBaqh0C8LUTYsQOIQI+8EklSXYhA",
          "dtype": "f8"
         },
         "yaxis": "y2"
        },
        {
         "line": {
          "color": "green",
          "dash": "dash"
         },
         "mode": "lines",
         "name": "Cenário Otimista (Acumulado)",
         "type": "scatter",
         "x": [
          "2026-01-31T00:00:00.000000000",
          "2026-02-28T00:00:00.000000000",
          "2026-03-31T00:00:00.000000000",
          "2026-04-30T00:00:00.000000000",
          "2026-05-31T00:00:00.000000000",
          "2026-06-30T00:00:00.000000000",
          "2026-07-31T00:00:00.000000000",
          "2026-08-31T00:00:00.000000000",
          "2026-09-30T00:00:00.000000000",
          "2026-10-31T00:00:00.000000000",
          "2026-11-30T00:00:00.000000000",
          "2026-12-31T00:00:00.000000000",
          "2027-01-31T00:00:00.000000000",
          "2027-02-28T00:00:00.000000000",
          "2027-03-31T00:00:00.000000000",
          "2027-04-30T00:00:00.000000000",
          "2027-05-31T00:00:00.000000000",
          "2027-06-30T00:00:00.000000000",
          "2027-07-31T00:00:00.000000000",
          "2027-08-31T00:00:00.000000000",
          "2027-09-30T00:00:00.000000000",
          "2027-10-31T00:00:00.000000000",
          "2027-11-30T00:00:00.000000000",
          "2027-12-31T00:00:00.000000000",
          "2028-01-31T00:00:00.000000000",
          "2028-02-29T00:00:00.000000000",
          "2028-03-31T00:00:00.000000000",
          "2028-04-30T00:00:00.000000000",
          "2028-05-31T00:00:00.000000000",
          "2028-06-30T00:00:00.000000000",
          "2028-07-31T00:00:00.000000000",
          "2028-08-31T00:00:00.000000000",
          "2028-09-30T00:00:00.000000000",
          "2028-10-31T00:00:00.000000000",
          "2028-11-30T00:00:00.000000000",
          "2028-12-31T00:00:00.000000000"
         ],
         "xaxis": "x2",
         "y": {
          "bdata": "TPe2ag+Ge0CeNJdyA5N8QBpXx+Iyqn1ASSt/k4nafkAC1xTjJQ+AQDbpXG6fuIBAa86l+BhogUC3zstBWRyCQCXVtgpt1IJAuoWGjJWPg0DUbynrO02EQAARowfoDIVAIpe7rDnOhUCJC3Vp45CGQAqirqOmVIdAwDj6kFAZiEBshWjbt96IQJonSsi6pIlArF8vwj1rikC0emwvKjKLQCiwIYRt+YtAZyTrgvjAjEAcSmiivoiNQIafCpC1UI5ATmRLytQYj0BwEK5NFeGPQDARd6i4VJBAPCy7BvK4kECBBerINB2RQKbQJk5/gZFAWl0PPtDlkUBTpxJ8JkqSQHuAAh2BrpJAjTN6Xt8Sk0AQucafQHeTQM4/DFyk25NA",
          "dtype": "f8"
         },
         "yaxis": "y2"
        },
        {
         "line": {
          "color": "red",
          "dash": "dash"
         },
         "mode": "lines",
         "name": "Cenário Pessimista (Acumulado)",
         "type": "scatter",
         "x": [
          "2026-01-31T00:00:00.000000000",
          "2026-02-28T00:00:00.000000000",
          "2026-03-31T00:00:00.000000000",
          "2026-04-30T00:00:00.000000000",
          "2026-05-31T00:00:00.000000000",
          "2026-06-30T00:00:00.000000000",
          "2026-07-31T00:00:00.000000000",
          "2026-08-31T00:00:00.000000000",
          "2026-09-30T00:00:00.000000000",
          "2026-10-31T00:00:00.000000000",
          "2026-11-30T00:00:00.000000000",
          "2026-12-31T00:00:00.000000000",
          "2027-01-31T00:00:00.000000000",
          "2027-02-28T00:00:00.000000000",
          "2027-03-31T00:00:00.000000000",
          "2027-04-30T00:00:00.000000000",
          "2027-05-31T00:00:00.000000000",
          "2027-06-30T00:00:00.000000000",
          "2027-07-31T00:00:00.000000000",
          "2027-08-31T00:00:00.000000000",
          "2027-09-30T00:00:00.000000000",
          "2027-10-31T00:00:00.000000000",
          "2027-11-30T00:00:00.000000000",
          "2027-12-31T00:00:00.000000000",
          "2028-01-31T00:00:00.000000000",
          "2028-02-29T00:00:00.000000000",
          "2028-03-31T00:00:00.000000000",
          "2028-04-30T00:00:00.000000000",
          "2028-05-31T00:00:00.000000000",
          "2028-06-30T00:00:00.000000000",
          "2028-07-31T00:00:00.000000000",
          "2028-08-31T00:00:00.000000000",
          "2028-09-30T00:00:00.000000000",
          "2028-10-31T00:00:00.000000000",
          "2028-11-30T00:00:00.000000000",
          "2028-12-31T00:00:00.000000000"
         ],
         "xaxis": "x2",
         "y": {
          "bdata": "SEbkeP4TekDjOM7jBJt5QIkCT2BdKHlAPj8Idia+eEDmAUxjTVx4QPyZtjc/AnhADza60jOvd0A6EqR5VGJ3QFjAMdjPGndABcTj7+PXdkAA2Klo4ph2QAoRI7oxXXZAjGr4mEwkdkCGNhN+wO11QInpEsYruXVAtzT9sjuGdUD0ejB6qlR1QFzqCnU9JHVAtM/FfsP0dECDjtmCE8Z0QKw/FTsLmHRAxs1OGo5qdEAlm3ZfhD10QKcLd0zaEHRAFo1RfH/kc0AaETBUZrhzQD5BhYuDjHNAPXzEx81gc0Da0qlIPTVzQNiAc6LLCXNAbI/Og3PeckBeGY6FMLNyQCjijwL/h3JAdRNy9ttcckC00vXhxDFyQAbzGbS3BnJA",
          "dtype": "f8"
         },
         "yaxis": "y2"
        }
       ],
       "layout": {
        "annotations": [
         {
          "font": {
           "size": 16
          },
          "showarrow": false,
          "text": "Projeção Média Mensal de Fabricação",
          "x": 0.5,
          "xanchor": "center",
          "xref": "paper",
          "y": 1,
          "yanchor": "bottom",
          "yref": "paper"
         },
         {
          "font": {
           "size": 16
          },
          "showarrow": false,
          "text": "Projeção Acumulada de Fabricação",
          "x": 0.5,
          "xanchor": "center",
          "xref": "paper",
          "y": 0.45,
          "yanchor": "bottom",
          "yref": "paper"
         }
        ],
        "height": 1000,
        "showlegend": true,
        "template": {
         "data": {
          "bar": [
           {
            "error_x": {
             "color": "#2a3f5f"
            },
            "error_y": {
             "color": "#2a3f5f"
            },
            "marker": {
             "line": {
              "color": "white",
              "width": 0.5
             },
             "pattern": {
              "fillmode": "overlay",
              "size": 10,
              "solidity": 0.2
             }
            },
            "type": "bar"
           }
          ],
          "barpolar": [
           {
            "marker": {
             "line": {
              "color": "white",
              "width": 0.5
             },
             "pattern": {
              "fillmode": "overlay",
              "size": 10,
              "solidity": 0.2
             }
            },
            "type": "barpolar"
           }
          ],
          "carpet": [
           {
            "aaxis": {
             "endlinecolor": "#2a3f5f",
             "gridcolor": "#C8D4E3",
             "linecolor": "#C8D4E3",
             "minorgridcolor": "#C8D4E3",
             "startlinecolor": "#2a3f5f"
            },
            "baxis": {
             "endlinecolor": "#2a3f5f",
             "gridcolor": "#C8D4E3",
             "linecolor": "#C8D4E3",
             "minorgridcolor": "#C8D4E3",
             "startlinecolor": "#2a3f5f"
            },
            "type": "carpet"
           }
          ],
          "choropleth": [
           {
            "colorbar": {
             "outlinewidth": 0,
             "ticks": ""
            },
            "type": "choropleth"
           }
          ],
          "contour": [
           {
            "colorbar": {
             "outlinewidth": 0,
             "ticks": ""
            },
            "colorscale": [
             [
              0,
              "#0d0887"
             ],
             [
              0.1111111111111111,
              "#46039f"
             ],
             [
              0.2222222222222222,
              "#7201a8"
             ],
             [
              0.3333333333333333,
              "#9c179e"
             ],
             [
              0.4444444444444444,
              "#bd3786"
             ],
             [
              0.5555555555555556,
              "#d8576b"
             ],
             [
              0.6666666666666666,
              "#ed7953"
             ],
             [
              0.7777777777777778,
              "#fb9f3a"
             ],
             [
              0.8888888888888888,
              "#fdca26"
             ],
             [
              1,
              "#f0f921"
             ]
            ],
            "type": "contour"
           }
          ],
          "contourcarpet": [
           {
            "colorbar": {
             "outlinewidth": 0,
             "ticks": ""
            },
            "type": "contourcarpet"
           }
          ],
          "heatmap": [
           {
            "colorbar": {
             "outlinewidth": 0,
             "ticks": ""
            },
            "colorscale": [
             [
              0,
              "#0d0887"
             ],
             [
              0.1111111111111111,
              "#46039f"
             ],
             [
              0.2222222222222222,
              "#7201a8"
             ],
             [
              0.3333333333333333,
              "#9c179e"
             ],
             [
              0.4444444444444444,
              "#bd3786"
             ],
             [
              0.5555555555555556,
              "#d8576b"
             ],
             [
              0.6666666666666666,
              "#ed7953"
             ],
             [
              0.7777777777777778,
              "#fb9f3a"
             ],
             [
              0.8888888888888888,
              "#fdca26"
             ],
             [
              1,
              "#f0f921"
             ]
            ],
            "type": "heatmap"
           }
          ],
          "histogram": [
           {
            "marker": {
             "pattern": {
              "fillmode": "overlay",
              "size": 10,
              "solidity": 0.2
             }
            },
            "type": "histogram"
           }
          ],
          "histogram2d": [
           {
            "colorbar": {
             "outlinewidth": 0,
             "ticks": ""
            },
            "colorscale": [
             [
              0,
              "#0d0887"
             ],
             [
              0.1111111111111111,
              "#46039f"
             ],
             [
              0.2222222222222222,
              "#7201a8"
             ],
             [
              0.3333333333333333,
              "#9c179e"
             ],
             [
              0.4444444444444444,
              "#bd3786"
             ],
             [
              0.5555555555555556,
              "#d8576b"
             ],
             [
              0.6666666666666666,
              "#ed7953"
             ],
             [
              0.7777777777777778,
              "#fb9f3a"
             ],
             [
              0.8888888888888888,
              "#fdca26"
             ],
             [
              1,
              "#f0f921"
             ]
            ],
            "type": "histogram2d"
           }
          ],
          "histogram2dcontour": [
           {
            "colorbar": {
             "outlinewidth": 0,
             "ticks": ""
            },
            "colorscale": [
             [
              0,
              "#0d0887"
             ],
             [
              0.1111111111111111,
              "#46039f"
             ],
             [
              0.2222222222222222,
              "#7201a8"
             ],
             [
              0.3333333333333333,
              "#9c179e"
             ],
             [
              0.4444444444444444,
              "#bd3786"
             ],
             [
              0.5555555555555556,
              "#d8576b"
             ],
             [
              0.6666666666666666,
              "#ed7953"
             ],
             [
              0.7777777777777778,
              "#fb9f3a"
             ],
             [
              0.8888888888888888,
              "#fdca26"
             ],
             [
              1,
              "#f0f921"
             ]
            ],
            "type": "histogram2dcontour"
           }
          ],
          "mesh3d": [
           {
            "colorbar": {
             "outlinewidth": 0,
             "ticks": ""
            },
            "type": "mesh3d"
           }
          ],
          "parcoords": [
           {
            "line": {
             "colorbar": {
              "outlinewidth": 0,
              "ticks": ""
             }
            },
            "type": "parcoords"
           }
          ],
          "pie": [
           {
            "automargin": true,
            "type": "pie"
           }
          ],
          "scatter": [
           {
            "fillpattern": {
             "fillmode": "overlay",
             "size": 10,
             "solidity": 0.2
            },
            "type": "scatter"
           }
          ],
          "scatter3d": [
           {
            "line": {
             "colorbar": {
              "outlinewidth": 0,
              "ticks": ""
             }
            },
            "marker": {
             "colorbar": {
              "outlinewidth": 0,
              "ticks": ""
             }
            },
            "type": "scatter3d"
           }
          ],
          "scattercarpet": [
           {
            "marker": {
             "colorbar": {
              "outlinewidth": 0,
              "ticks": ""
             }
            },
            "type": "scattercarpet"
           }
          ],
          "scattergeo": [
           {
            "marker": {
             "colorbar": {
              "outlinewidth": 0,
              "ticks": ""
             }
            },
            "type": "scattergeo"
           }
          ],
          "scattergl": [
           {
            "marker": {
             "colorbar": {
              "outlinewidth": 0,
              "ticks": ""
             }
            },
            "type": "scattergl"
           }
          ],
          "scattermap": [
           {
            "marker": {
             "colorbar": {
              "outlinewidth": 0,
              "ticks": ""
             }
            },
            "type": "scattermap"
           }
          ],
          "scattermapbox": [
           {
            "marker": {
             "colorbar": {
              "outlinewidth": 0,
              "ticks": ""
             }
            },
            "type": "scattermapbox"
           }
          ],
          "scatterpolar": [
           {
            "marker": {
             "colorbar": {
              "outlinewidth": 0,
              "ticks": ""
             }
            },
            "type": "scatterpolar"
           }
          ],
          "scatterpolargl": [
           {
            "marker": {
             "colorbar": {
              "outlinewidth": 0,
              "ticks": ""
             }
            },
            "type": "scatterpolargl"
           }
          ],
          "scatterternary": [
           {
            "marker": {
             "colorbar": {
              "outlinewidth": 0,
              "ticks": ""
             }
            },
            "type": "scatterternary"
           }
          ],
          "surface": [
           {
            "colorbar": {
             "outlinewidth": 0,
             "ticks": ""
            },
            "colorscale": [
             [
              0,
              "#0d0887"
             ],
             [
              0.1111111111111111,
              "#46039f"
             ],
             [
              0.2222222222222222,
              "#7201a8"
             ],
             [
              0.3333333333333333,
              "#9c179e"
             ],
             [
              0.4444444444444444,
              "#bd3786"
             ],
             [
              0.5555555555555556,
              "#d8576b"
             ],
             [
              0.6666666666666666,
              "#ed7953"
             ],
             [
              0.7777777777777778,
              "#fb9f3a"
             ],
             [
              0.8888888888888888,
              "#fdca26"
             ],
             [
              1,
              "#f0f921"
             ]
            ],
            "type": "surface"
           }
          ],
          "table": [
           {
            "cells": {
             "fill": {
              "color": "#EBF0F8"
             },
             "line": {
              "color": "white"
             }
            },
            "header": {
             "fill": {
              "color": "#C8D4E3"
             },
             "line": {
              "color": "white"
             }
            },
            "type": "table"
           }
          ]
         },
         "layout": {
          "annotationdefaults": {
           "arrowcolor": "#2a3f5f",
           "arrowhead": 0,
           "arrowwidth": 1
          },
          "autotypenumbers": "strict",
          "coloraxis": {
           "colorbar": {
            "outlinewidth": 0,
            "ticks": ""
           }
          },
          "colorscale": {
           "diverging": [
            [
             0,
             "#8e0152"
            ],
            [
             0.1,
             "#c51b7d"
            ],
            [
             0.2,
             "#de77ae"
            ],
            [
             0.3,
             "#f1b6da"
            ],
            [
             0.4,
             "#fde0ef"
            ],
            [
             0.5,
             "#f7f7f7"
            ],
            [
             0.6,
             "#e6f5d0"
            ],
            [
             0.7,
             "#b8e186"
            ],
            [
             0.8,
             "#7fbc41"
            ],
            [
             0.9,
             "#4d9221"
            ],
            [
             1,
             "#276419"
            ]
           ],
           "sequential": [
            [
             0,
             "#0d0887"
            ],
            [
             0.1111111111111111,
             "#46039f"
            ],
            [
             0.2222222222222222,
             "#7201a8"
            ],
            [
             0.3333333333333333,
             "#9c179e"
            ],
            [
             0.4444444444444444,
             "#bd3786"
            ],
            [
             0.5555555555555556,
             "#d8576b"
            ],
            [
             0.6666666666666666,
             "#ed7953"
            ],
            [
             0.7777777777777778,
             "#fb9f3a"
            ],
            [
             0.8888888888888888,
             "#fdca26"
            ],
            [
             1,
             "#f0f921"
            ]
           ],
           "sequentialminus": [
            [
             0,
             "#0d0887"
            ],
            [
             0.1111111111111111,
             "#46039f"
            ],
            [
             0.2222222222222222,
             "#7201a8"
            ],
            [
             0.3333333333333333,
             "#9c179e"
            ],
            [
             0.4444444444444444,
             "#bd3786"
            ],
            [
             0.5555555555555556,
             "#d8576b"
            ],
            [
             0.6666666666666666,
             "#ed7953"
            ],
            [
             0.7777777777777778,
             "#fb9f3a"
            ],
            [
             0.8888888888888888,
             "#fdca26"
            ],
            [
             1,
             "#f0f921"
            ]
           ]
          },
          "colorway": [
           "#636efa",
           "#EF553B",
           "#00cc96",
           "#ab63fa",
           "#FFA15A",
           "#19d3f3",
           "#FF6692",
           "#B6E880",
           "#FF97FF",
           "#FECB52"
          ],
          "font": {
           "color": "#2a3f5f"
          },
          "geo": {
           "bgcolor": "white",
           "lakecolor": "white",
           "landcolor": "white",
           "showlakes": true,
           "showland": true,
           "subunitcolor": "#C8D4E3"
          },
          "hoverlabel": {
           "align": "left"
          },
          "hovermode": "closest",
          "mapbox": {
           "style": "light"
          },
          "paper_bgcolor": "white",
          "plot_bgcolor": "white",
          "polar": {
           "angularaxis": {
            "gridcolor": "#EBF0F8",
            "linecolor": "#EBF0F8",
            "ticks": ""
           },
           "bgcolor": "white",
           "radialaxis": {
            "gridcolor": "#EBF0F8",
            "linecolor": "#EBF0F8",
            "ticks": ""
           }
          },
          "scene": {
           "xaxis": {
            "backgroundcolor": "white",
            "gridcolor": "#DFE8F3",
            "gridwidth": 2,
            "linecolor": "#EBF0F8",
            "showbackground": true,
            "ticks": "",
            "zerolinecolor": "#EBF0F8"
           },
           "yaxis": {
            "backgroundcolor": "white",
            "gridcolor": "#DFE8F3",
            "gridwidth": 2,
            "linecolor": "#EBF0F8",
            "showbackground": true,
            "ticks": "",
            "zerolinecolor": "#EBF0F8"
           },
           "zaxis": {
            "backgroundcolor": "white",
            "gridcolor": "#DFE8F3",
            "gridwidth": 2,
            "linecolor": "#EBF0F8",
            "showbackground": true,
            "ticks": "",
            "zerolinecolor": "#EBF0F8"
           }
          },
          "shapedefaults": {
           "line": {
            "color": "#2a3f5f"
           }
          },
          "ternary": {
           "aaxis": {
            "gridcolor": "#DFE8F3",
            "linecolor": "#A2B1C6",
            "ticks": ""
           },
           "baxis": {
            "gridcolor": "#DFE8F3",
            "linecolor": "#A2B1C6",
            "ticks": ""
           },
           "bgcolor": "white",
           "caxis": {
            "gridcolor": "#DFE8F3",
            "linecolor": "#A2B1C6",
            "ticks": ""
           }
          },
          "title": {
           "x": 0.05
          },
          "xaxis": {
           "automargin": true,
           "gridcolor": "#EBF0F8",
           "linecolor": "#EBF0F8",
           "ticks": "",
           "title": {
            "standoff": 15
           },
           "zerolinecolor": "#EBF0F8",
           "zerolinewidth": 2
          },
          "yaxis": {
           "automargin": true,
           "gridcolor": "#EBF0F8",
           "linecolor": "#EBF0F8",
           "ticks": "",
           "title": {
            "standoff": 15
           },
           "zerolinecolor": "#EBF0F8",
           "zerolinewidth": 2
          }
         }
        },
        "title": {
         "text": "Projeção de Fabricação (Ton) até Julho/2027 - IC 80%"
        },
        "xaxis": {
         "anchor": "y",
         "domain": [
          0,
          1
         ],
         "matches": "x2",
         "showticklabels": false
        },
        "xaxis2": {
         "anchor": "y2",
         "domain": [
          0,
          1
         ],
         "title": {
          "text": "Data"
         }
        },
        "yaxis": {
         "anchor": "x",
         "domain": [
          0.55,
          1
         ],
         "title": {
          "text": "Peso Total (Ton)"
         }
        },
        "yaxis2": {
         "anchor": "x2",
         "domain": [
          0,
          0.45
         ],
         "title": {
          "text": "Acumulado de Peso Total (Ton)"
         }
        }
       }
      }
     },
     "metadata": {},
     "output_type": "display_data"
    },
    {
     "name": "stderr",
     "output_type": "stream",
     "text": [
      "2025-04-22 11:13:00.223 Thread 'MainThread': missing ScriptRunContext! This warning can be ignored when running in bare mode.\n",
      "2025-04-22 11:13:00.224 Thread 'MainThread': missing ScriptRunContext! This warning can be ignored when running in bare mode.\n",
      "2025-04-22 11:13:00.227 Thread 'MainThread': missing ScriptRunContext! This warning can be ignored when running in bare mode.\n",
      "2025-04-22 11:13:00.228 Thread 'MainThread': missing ScriptRunContext! This warning can be ignored when running in bare mode.\n",
      "2025-04-22 11:13:00.230 Thread 'MainThread': missing ScriptRunContext! This warning can be ignored when running in bare mode.\n",
      "2025-04-22 11:13:00.231 Thread 'MainThread': missing ScriptRunContext! This warning can be ignored when running in bare mode.\n"
     ]
    },
    {
     "data": {
      "text/plain": [
       "DeltaGenerator()"
      ]
     },
     "execution_count": 281,
     "metadata": {},
     "output_type": "execute_result"
    }
   ],
   "source": [
    "import streamlit as st\n",
    "import pandas as pd\n",
    "import plotly.graph_objects as go\n",
    "import plotly.subplots as sp\n",
    "\n",
    "df['Fim Real Caldeiraria'] = pd.to_datetime(df['Fim Real Caldeiraria'], errors='coerce')\n",
    "\n",
    "# Filtrando dados com Fim Real Caldeiraria preenchido\n",
    "df_filtrado = df[df['Fim Real Caldeiraria'].notna()]\n",
    "\n",
    "# Série histórica (Peso Total (Ton) por mês)\n",
    "serie_total = df_filtrado.groupby(pd.Grouper(key='Fim Real Caldeiraria', freq='M'))['Peso Total (Ton)'].sum()\n",
    "\n",
    "# Modelo ARIMA para previsão da média mensal (considerando p=1, d=0, q=3)\n",
    "modelo_media = ARIMA(serie_total, order=(1,0,3)).fit()\n",
    "forecast_media = modelo_media.get_forecast(steps=36)  # Previsões para os próximos 3 anos\n",
    "\n",
    "previsao_media_realista = forecast_media.predicted_mean\n",
    "ic_media = forecast_media.conf_int(alpha=0.20)\n",
    "\n",
    "# Cenários Otimista e Pessimista\n",
    "media_otimista = ic_media.iloc[:, 1]\n",
    "media_pessimista = ic_media.iloc[:, 0]\n",
    "\n",
    "# Previsão de Acumulado\n",
    "ultimo_valor_real = serie_total.cumsum().iloc[-1]\n",
    "\n",
    "acumulado_realista = np.cumsum(previsao_media_realista) + ultimo_valor_real\n",
    "acumulado_otimista = np.cumsum(media_otimista) + ultimo_valor_real\n",
    "acumulado_pessimista = np.cumsum(media_pessimista) + ultimo_valor_real\n",
    "\n",
    "# Dados para o gráfico\n",
    "datas_futuras = pd.date_range(start=serie_total.index[-1] + pd.Timedelta(days=1), periods=36, freq='M')\n",
    "\n",
    "# Criando a figura com 2 subgráficos\n",
    "fig = sp.make_subplots(\n",
    "    rows=2, cols=1,\n",
    "    subplot_titles=('Projeção Média Mensal de Fabricação', 'Projeção Acumulada de Fabricação'),\n",
    "    shared_xaxes=True,\n",
    "    vertical_spacing=0.1\n",
    ")\n",
    "\n",
    "# Gráfico de Média Mensal\n",
    "fig.add_trace(go.Scatter(\n",
    "    x=serie_total.index,\n",
    "    y=serie_total.values,\n",
    "    mode='lines+markers',\n",
    "    name='Histórico Real (Média Mensal)',\n",
    "    line=dict(color='black', width=2)\n",
    "), row=1, col=1)\n",
    "\n",
    "fig.add_trace(go.Scatter(\n",
    "    x=datas_futuras,\n",
    "    y=previsao_media_realista,\n",
    "    mode='lines',\n",
    "    name='Cenário Realista (Média Mensal)',\n",
    "    line=dict(color='blue')\n",
    "), row=1, col=1)\n",
    "\n",
    "fig.add_trace(go.Scatter(\n",
    "    x=datas_futuras,\n",
    "    y=media_otimista,\n",
    "    mode='lines',\n",
    "    name='Cenário Otimista (Média Mensal)',\n",
    "    line=dict(color='green', dash='dash')\n",
    "), row=1, col=1)\n",
    "\n",
    "fig.add_trace(go.Scatter(\n",
    "    x=datas_futuras,\n",
    "    y=media_pessimista,\n",
    "    mode='lines',\n",
    "    name='Cenário Pessimista (Média Mensal)',\n",
    "    line=dict(color='red', dash='dash')\n",
    "), row=1, col=1)\n",
    "\n",
    "# Gráfico de Acumulado\n",
    "fig.add_trace(go.Scatter(\n",
    "    x=serie_total.index,\n",
    "    y=serie_total.cumsum(),\n",
    "    mode='lines+markers',\n",
    "    name='Acumulado Real',\n",
    "    line=dict(color='black', width=2)\n",
    "), row=2, col=1)\n",
    "\n",
    "fig.add_trace(go.Scatter(\n",
    "    x=datas_futuras,\n",
    "    y=acumulado_realista,\n",
    "    mode='lines',\n",
    "    name='Cenário Realista (Acumulado)',\n",
    "    line=dict(color='blue')\n",
    "), row=2, col=1)\n",
    "\n",
    "fig.add_trace(go.Scatter(\n",
    "    x=datas_futuras,\n",
    "    y=acumulado_otimista,\n",
    "    mode='lines',\n",
    "    name='Cenário Otimista (Acumulado)',\n",
    "    line=dict(color='green', dash='dash')\n",
    "), row=2, col=1)\n",
    "\n",
    "fig.add_trace(go.Scatter(\n",
    "    x=datas_futuras,\n",
    "    y=acumulado_pessimista,\n",
    "    mode='lines',\n",
    "    name='Cenário Pessimista (Acumulado)',\n",
    "    line=dict(color='red', dash='dash')\n",
    "), row=2, col=1)\n",
    "\n",
    "# Ajustes finais de layout\n",
    "fig.update_layout(\n",
    "    title='Projeção de Fabricação (Ton) até Julho/2027 - IC 80%',\n",
    "    showlegend=True,\n",
    "    template='plotly_white',\n",
    "    height=1000\n",
    ")\n",
    "\n",
    "fig.update_xaxes(title_text='Data', row=2, col=1)\n",
    "fig.update_yaxes(title_text='Peso Total (Ton)', row=1, col=1)\n",
    "fig.update_yaxes(title_text='Acumulado de Peso Total (Ton)', row=2, col=1)\n",
    "\n",
    "# Exibe o gráfico no Power BI\n",
    "fig.show()\n",
    "\n",
    "\n",
    "st.title(\"Dashboard de Projeção de Fabricação (Ton) até Julho/2027\")\n",
    "\n",
    "st.plotly_chart(fig, use_container_width=True)\n"
   ]
  },
  {
   "cell_type": "code",
   "execution_count": 282,
   "metadata": {},
   "outputs": [],
   "source": [
    "from prophet import Prophet\n",
    "import cmdstanpy"
   ]
  },
  {
   "cell_type": "code",
   "execution_count": 283,
   "metadata": {},
   "outputs": [
    {
     "name": "stdout",
     "output_type": "stream",
     "text": [
      "Cannot connect to github.\n",
      "<urlopen error [SSL: CERTIFICATE_VERIFY_FAILED] certificate verify failed: Missing Authority Key Identifier (_ssl.c:1020)>\n",
      "retry (1/5)\n",
      "Cannot connect to github.\n",
      "<urlopen error [SSL: CERTIFICATE_VERIFY_FAILED] certificate verify failed: Missing Authority Key Identifier (_ssl.c:1020)>\n",
      "retry (2/5)\n",
      "Cannot connect to github.\n",
      "<urlopen error [SSL: CERTIFICATE_VERIFY_FAILED] certificate verify failed: Missing Authority Key Identifier (_ssl.c:1020)>\n",
      "retry (3/5)\n",
      "Cannot connect to github.\n",
      "<urlopen error [SSL: CERTIFICATE_VERIFY_FAILED] certificate verify failed: Missing Authority Key Identifier (_ssl.c:1020)>\n",
      "retry (4/5)\n",
      "Cannot connect to github.\n",
      "<urlopen error [SSL: CERTIFICATE_VERIFY_FAILED] certificate verify failed: Missing Authority Key Identifier (_ssl.c:1020)>\n",
      "retry (5/5)\n"
     ]
    },
    {
     "name": "stderr",
     "output_type": "stream",
     "text": [
      "11:13:05 - cmdstanpy - WARNING - CmdStan installation failed.\n",
      "Cannot connect to CmdStan github repo.\n"
     ]
    },
    {
     "name": "stdout",
     "output_type": "stream",
     "text": [
      "Cannot connect to github.\n",
      "<urlopen error [SSL: CERTIFICATE_VERIFY_FAILED] certificate verify failed: Missing Authority Key Identifier (_ssl.c:1020)>\n"
     ]
    },
    {
     "data": {
      "text/plain": [
       "False"
      ]
     },
     "execution_count": 283,
     "metadata": {},
     "output_type": "execute_result"
    }
   ],
   "source": [
    "from cmdstanpy import install_cmdstan\n",
    "install_cmdstan()"
   ]
  }
 ],
 "metadata": {
  "kernelspec": {
   "display_name": "python",
   "language": "python",
   "name": "python3"
  },
  "language_info": {
   "codemirror_mode": {
    "name": "ipython",
    "version": 3
   },
   "file_extension": ".py",
   "mimetype": "text/x-python",
   "name": "python",
   "nbconvert_exporter": "python",
   "pygments_lexer": "ipython3",
   "version": "3.13.0"
  }
 },
 "nbformat": 4,
 "nbformat_minor": 2
}
